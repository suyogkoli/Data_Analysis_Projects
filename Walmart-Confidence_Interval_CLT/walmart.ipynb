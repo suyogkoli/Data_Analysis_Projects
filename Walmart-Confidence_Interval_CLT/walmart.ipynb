{
  "nbformat": 4,
  "nbformat_minor": 0,
  "metadata": {
    "colab": {
      "provenance": []
    },
    "kernelspec": {
      "name": "python3",
      "display_name": "Python 3"
    },
    "language_info": {
      "name": "python"
    }
  },
  "cells": [
    {
      "cell_type": "code",
      "execution_count": null,
      "metadata": {
        "id": "dPYNHW9Ylkju"
      },
      "outputs": [],
      "source": [
        "import pandas as pd\n",
        "from google.colab import files\n",
        "import numpy as np\n",
        "import pandas as pd\n",
        "import seaborn as sns\n",
        "import matplotlib.pyplot as plt\n",
        "from scipy.stats import norm"
      ]
    },
    {
      "cell_type": "markdown",
      "source": [
        "1.1 Observations on shape of data, data types of all the attributes, conversion of categorical attributes to 'category' (If required), statistical summary"
      ],
      "metadata": {
        "id": "O-DmB2ZdcQEf"
      }
    },
    {
      "cell_type": "code",
      "source": [
        "uploaded = files.upload()\n",
        "df = pd.read_csv(\"walmart_data.csv\")\n",
        "df.head()"
      ],
      "metadata": {
        "colab": {
          "base_uri": "https://localhost:8080/",
          "height": 350
        },
        "id": "MolbZOpxoUvV",
        "outputId": "1bd226a0-6a7a-41b8-e496-45d574d60ea7"
      },
      "execution_count": null,
      "outputs": [
        {
          "output_type": "display_data",
          "data": {
            "text/plain": [
              "<IPython.core.display.HTML object>"
            ],
            "text/html": [
              "\n",
              "     <input type=\"file\" id=\"files-2e64e258-7964-4d76-879c-55289fbd6f46\" name=\"files[]\" multiple disabled\n",
              "        style=\"border:none\" />\n",
              "     <output id=\"result-2e64e258-7964-4d76-879c-55289fbd6f46\">\n",
              "      Upload widget is only available when the cell has been executed in the\n",
              "      current browser session. Please rerun this cell to enable.\n",
              "      </output>\n",
              "      <script>// Copyright 2017 Google LLC\n",
              "//\n",
              "// Licensed under the Apache License, Version 2.0 (the \"License\");\n",
              "// you may not use this file except in compliance with the License.\n",
              "// You may obtain a copy of the License at\n",
              "//\n",
              "//      http://www.apache.org/licenses/LICENSE-2.0\n",
              "//\n",
              "// Unless required by applicable law or agreed to in writing, software\n",
              "// distributed under the License is distributed on an \"AS IS\" BASIS,\n",
              "// WITHOUT WARRANTIES OR CONDITIONS OF ANY KIND, either express or implied.\n",
              "// See the License for the specific language governing permissions and\n",
              "// limitations under the License.\n",
              "\n",
              "/**\n",
              " * @fileoverview Helpers for google.colab Python module.\n",
              " */\n",
              "(function(scope) {\n",
              "function span(text, styleAttributes = {}) {\n",
              "  const element = document.createElement('span');\n",
              "  element.textContent = text;\n",
              "  for (const key of Object.keys(styleAttributes)) {\n",
              "    element.style[key] = styleAttributes[key];\n",
              "  }\n",
              "  return element;\n",
              "}\n",
              "\n",
              "// Max number of bytes which will be uploaded at a time.\n",
              "const MAX_PAYLOAD_SIZE = 100 * 1024;\n",
              "\n",
              "function _uploadFiles(inputId, outputId) {\n",
              "  const steps = uploadFilesStep(inputId, outputId);\n",
              "  const outputElement = document.getElementById(outputId);\n",
              "  // Cache steps on the outputElement to make it available for the next call\n",
              "  // to uploadFilesContinue from Python.\n",
              "  outputElement.steps = steps;\n",
              "\n",
              "  return _uploadFilesContinue(outputId);\n",
              "}\n",
              "\n",
              "// This is roughly an async generator (not supported in the browser yet),\n",
              "// where there are multiple asynchronous steps and the Python side is going\n",
              "// to poll for completion of each step.\n",
              "// This uses a Promise to block the python side on completion of each step,\n",
              "// then passes the result of the previous step as the input to the next step.\n",
              "function _uploadFilesContinue(outputId) {\n",
              "  const outputElement = document.getElementById(outputId);\n",
              "  const steps = outputElement.steps;\n",
              "\n",
              "  const next = steps.next(outputElement.lastPromiseValue);\n",
              "  return Promise.resolve(next.value.promise).then((value) => {\n",
              "    // Cache the last promise value to make it available to the next\n",
              "    // step of the generator.\n",
              "    outputElement.lastPromiseValue = value;\n",
              "    return next.value.response;\n",
              "  });\n",
              "}\n",
              "\n",
              "/**\n",
              " * Generator function which is called between each async step of the upload\n",
              " * process.\n",
              " * @param {string} inputId Element ID of the input file picker element.\n",
              " * @param {string} outputId Element ID of the output display.\n",
              " * @return {!Iterable<!Object>} Iterable of next steps.\n",
              " */\n",
              "function* uploadFilesStep(inputId, outputId) {\n",
              "  const inputElement = document.getElementById(inputId);\n",
              "  inputElement.disabled = false;\n",
              "\n",
              "  const outputElement = document.getElementById(outputId);\n",
              "  outputElement.innerHTML = '';\n",
              "\n",
              "  const pickedPromise = new Promise((resolve) => {\n",
              "    inputElement.addEventListener('change', (e) => {\n",
              "      resolve(e.target.files);\n",
              "    });\n",
              "  });\n",
              "\n",
              "  const cancel = document.createElement('button');\n",
              "  inputElement.parentElement.appendChild(cancel);\n",
              "  cancel.textContent = 'Cancel upload';\n",
              "  const cancelPromise = new Promise((resolve) => {\n",
              "    cancel.onclick = () => {\n",
              "      resolve(null);\n",
              "    };\n",
              "  });\n",
              "\n",
              "  // Wait for the user to pick the files.\n",
              "  const files = yield {\n",
              "    promise: Promise.race([pickedPromise, cancelPromise]),\n",
              "    response: {\n",
              "      action: 'starting',\n",
              "    }\n",
              "  };\n",
              "\n",
              "  cancel.remove();\n",
              "\n",
              "  // Disable the input element since further picks are not allowed.\n",
              "  inputElement.disabled = true;\n",
              "\n",
              "  if (!files) {\n",
              "    return {\n",
              "      response: {\n",
              "        action: 'complete',\n",
              "      }\n",
              "    };\n",
              "  }\n",
              "\n",
              "  for (const file of files) {\n",
              "    const li = document.createElement('li');\n",
              "    li.append(span(file.name, {fontWeight: 'bold'}));\n",
              "    li.append(span(\n",
              "        `(${file.type || 'n/a'}) - ${file.size} bytes, ` +\n",
              "        `last modified: ${\n",
              "            file.lastModifiedDate ? file.lastModifiedDate.toLocaleDateString() :\n",
              "                                    'n/a'} - `));\n",
              "    const percent = span('0% done');\n",
              "    li.appendChild(percent);\n",
              "\n",
              "    outputElement.appendChild(li);\n",
              "\n",
              "    const fileDataPromise = new Promise((resolve) => {\n",
              "      const reader = new FileReader();\n",
              "      reader.onload = (e) => {\n",
              "        resolve(e.target.result);\n",
              "      };\n",
              "      reader.readAsArrayBuffer(file);\n",
              "    });\n",
              "    // Wait for the data to be ready.\n",
              "    let fileData = yield {\n",
              "      promise: fileDataPromise,\n",
              "      response: {\n",
              "        action: 'continue',\n",
              "      }\n",
              "    };\n",
              "\n",
              "    // Use a chunked sending to avoid message size limits. See b/62115660.\n",
              "    let position = 0;\n",
              "    do {\n",
              "      const length = Math.min(fileData.byteLength - position, MAX_PAYLOAD_SIZE);\n",
              "      const chunk = new Uint8Array(fileData, position, length);\n",
              "      position += length;\n",
              "\n",
              "      const base64 = btoa(String.fromCharCode.apply(null, chunk));\n",
              "      yield {\n",
              "        response: {\n",
              "          action: 'append',\n",
              "          file: file.name,\n",
              "          data: base64,\n",
              "        },\n",
              "      };\n",
              "\n",
              "      let percentDone = fileData.byteLength === 0 ?\n",
              "          100 :\n",
              "          Math.round((position / fileData.byteLength) * 100);\n",
              "      percent.textContent = `${percentDone}% done`;\n",
              "\n",
              "    } while (position < fileData.byteLength);\n",
              "  }\n",
              "\n",
              "  // All done.\n",
              "  yield {\n",
              "    response: {\n",
              "      action: 'complete',\n",
              "    }\n",
              "  };\n",
              "}\n",
              "\n",
              "scope.google = scope.google || {};\n",
              "scope.google.colab = scope.google.colab || {};\n",
              "scope.google.colab._files = {\n",
              "  _uploadFiles,\n",
              "  _uploadFilesContinue,\n",
              "};\n",
              "})(self);\n",
              "</script> "
            ]
          },
          "metadata": {}
        },
        {
          "output_type": "stream",
          "name": "stdout",
          "text": [
            "Saving walmart_data.csv to walmart_data.csv\n"
          ]
        },
        {
          "output_type": "execute_result",
          "data": {
            "text/plain": [
              "   User_ID Product_ID Gender   Age  Occupation City_Category  \\\n",
              "0  1000001  P00069042      F  0-17          10             A   \n",
              "1  1000001  P00248942      F  0-17          10             A   \n",
              "2  1000001  P00087842      F  0-17          10             A   \n",
              "3  1000001  P00085442      F  0-17          10             A   \n",
              "4  1000002  P00285442      M   55+          16             C   \n",
              "\n",
              "  Stay_In_Current_City_Years  Marital_Status  Product_Category  Purchase  \n",
              "0                          2               0                 3      8370  \n",
              "1                          2               0                 1     15200  \n",
              "2                          2               0                12      1422  \n",
              "3                          2               0                12      1057  \n",
              "4                         4+               0                 8      7969  "
            ],
            "text/html": [
              "\n",
              "  <div id=\"df-4b998a07-0944-4e97-a4f0-ffa90e700c51\" class=\"colab-df-container\">\n",
              "    <div>\n",
              "<style scoped>\n",
              "    .dataframe tbody tr th:only-of-type {\n",
              "        vertical-align: middle;\n",
              "    }\n",
              "\n",
              "    .dataframe tbody tr th {\n",
              "        vertical-align: top;\n",
              "    }\n",
              "\n",
              "    .dataframe thead th {\n",
              "        text-align: right;\n",
              "    }\n",
              "</style>\n",
              "<table border=\"1\" class=\"dataframe\">\n",
              "  <thead>\n",
              "    <tr style=\"text-align: right;\">\n",
              "      <th></th>\n",
              "      <th>User_ID</th>\n",
              "      <th>Product_ID</th>\n",
              "      <th>Gender</th>\n",
              "      <th>Age</th>\n",
              "      <th>Occupation</th>\n",
              "      <th>City_Category</th>\n",
              "      <th>Stay_In_Current_City_Years</th>\n",
              "      <th>Marital_Status</th>\n",
              "      <th>Product_Category</th>\n",
              "      <th>Purchase</th>\n",
              "    </tr>\n",
              "  </thead>\n",
              "  <tbody>\n",
              "    <tr>\n",
              "      <th>0</th>\n",
              "      <td>1000001</td>\n",
              "      <td>P00069042</td>\n",
              "      <td>F</td>\n",
              "      <td>0-17</td>\n",
              "      <td>10</td>\n",
              "      <td>A</td>\n",
              "      <td>2</td>\n",
              "      <td>0</td>\n",
              "      <td>3</td>\n",
              "      <td>8370</td>\n",
              "    </tr>\n",
              "    <tr>\n",
              "      <th>1</th>\n",
              "      <td>1000001</td>\n",
              "      <td>P00248942</td>\n",
              "      <td>F</td>\n",
              "      <td>0-17</td>\n",
              "      <td>10</td>\n",
              "      <td>A</td>\n",
              "      <td>2</td>\n",
              "      <td>0</td>\n",
              "      <td>1</td>\n",
              "      <td>15200</td>\n",
              "    </tr>\n",
              "    <tr>\n",
              "      <th>2</th>\n",
              "      <td>1000001</td>\n",
              "      <td>P00087842</td>\n",
              "      <td>F</td>\n",
              "      <td>0-17</td>\n",
              "      <td>10</td>\n",
              "      <td>A</td>\n",
              "      <td>2</td>\n",
              "      <td>0</td>\n",
              "      <td>12</td>\n",
              "      <td>1422</td>\n",
              "    </tr>\n",
              "    <tr>\n",
              "      <th>3</th>\n",
              "      <td>1000001</td>\n",
              "      <td>P00085442</td>\n",
              "      <td>F</td>\n",
              "      <td>0-17</td>\n",
              "      <td>10</td>\n",
              "      <td>A</td>\n",
              "      <td>2</td>\n",
              "      <td>0</td>\n",
              "      <td>12</td>\n",
              "      <td>1057</td>\n",
              "    </tr>\n",
              "    <tr>\n",
              "      <th>4</th>\n",
              "      <td>1000002</td>\n",
              "      <td>P00285442</td>\n",
              "      <td>M</td>\n",
              "      <td>55+</td>\n",
              "      <td>16</td>\n",
              "      <td>C</td>\n",
              "      <td>4+</td>\n",
              "      <td>0</td>\n",
              "      <td>8</td>\n",
              "      <td>7969</td>\n",
              "    </tr>\n",
              "  </tbody>\n",
              "</table>\n",
              "</div>\n",
              "    <div class=\"colab-df-buttons\">\n",
              "\n",
              "  <div class=\"colab-df-container\">\n",
              "    <button class=\"colab-df-convert\" onclick=\"convertToInteractive('df-4b998a07-0944-4e97-a4f0-ffa90e700c51')\"\n",
              "            title=\"Convert this dataframe to an interactive table.\"\n",
              "            style=\"display:none;\">\n",
              "\n",
              "  <svg xmlns=\"http://www.w3.org/2000/svg\" height=\"24px\" viewBox=\"0 -960 960 960\">\n",
              "    <path d=\"M120-120v-720h720v720H120Zm60-500h600v-160H180v160Zm220 220h160v-160H400v160Zm0 220h160v-160H400v160ZM180-400h160v-160H180v160Zm440 0h160v-160H620v160ZM180-180h160v-160H180v160Zm440 0h160v-160H620v160Z\"/>\n",
              "  </svg>\n",
              "    </button>\n",
              "\n",
              "  <style>\n",
              "    .colab-df-container {\n",
              "      display:flex;\n",
              "      gap: 12px;\n",
              "    }\n",
              "\n",
              "    .colab-df-convert {\n",
              "      background-color: #E8F0FE;\n",
              "      border: none;\n",
              "      border-radius: 50%;\n",
              "      cursor: pointer;\n",
              "      display: none;\n",
              "      fill: #1967D2;\n",
              "      height: 32px;\n",
              "      padding: 0 0 0 0;\n",
              "      width: 32px;\n",
              "    }\n",
              "\n",
              "    .colab-df-convert:hover {\n",
              "      background-color: #E2EBFA;\n",
              "      box-shadow: 0px 1px 2px rgba(60, 64, 67, 0.3), 0px 1px 3px 1px rgba(60, 64, 67, 0.15);\n",
              "      fill: #174EA6;\n",
              "    }\n",
              "\n",
              "    .colab-df-buttons div {\n",
              "      margin-bottom: 4px;\n",
              "    }\n",
              "\n",
              "    [theme=dark] .colab-df-convert {\n",
              "      background-color: #3B4455;\n",
              "      fill: #D2E3FC;\n",
              "    }\n",
              "\n",
              "    [theme=dark] .colab-df-convert:hover {\n",
              "      background-color: #434B5C;\n",
              "      box-shadow: 0px 1px 3px 1px rgba(0, 0, 0, 0.15);\n",
              "      filter: drop-shadow(0px 1px 2px rgba(0, 0, 0, 0.3));\n",
              "      fill: #FFFFFF;\n",
              "    }\n",
              "  </style>\n",
              "\n",
              "    <script>\n",
              "      const buttonEl =\n",
              "        document.querySelector('#df-4b998a07-0944-4e97-a4f0-ffa90e700c51 button.colab-df-convert');\n",
              "      buttonEl.style.display =\n",
              "        google.colab.kernel.accessAllowed ? 'block' : 'none';\n",
              "\n",
              "      async function convertToInteractive(key) {\n",
              "        const element = document.querySelector('#df-4b998a07-0944-4e97-a4f0-ffa90e700c51');\n",
              "        const dataTable =\n",
              "          await google.colab.kernel.invokeFunction('convertToInteractive',\n",
              "                                                    [key], {});\n",
              "        if (!dataTable) return;\n",
              "\n",
              "        const docLinkHtml = 'Like what you see? Visit the ' +\n",
              "          '<a target=\"_blank\" href=https://colab.research.google.com/notebooks/data_table.ipynb>data table notebook</a>'\n",
              "          + ' to learn more about interactive tables.';\n",
              "        element.innerHTML = '';\n",
              "        dataTable['output_type'] = 'display_data';\n",
              "        await google.colab.output.renderOutput(dataTable, element);\n",
              "        const docLink = document.createElement('div');\n",
              "        docLink.innerHTML = docLinkHtml;\n",
              "        element.appendChild(docLink);\n",
              "      }\n",
              "    </script>\n",
              "  </div>\n",
              "\n",
              "\n",
              "    <div id=\"df-f8385e86-74f1-4ab3-8408-45de83901e25\">\n",
              "      <button class=\"colab-df-quickchart\" onclick=\"quickchart('df-f8385e86-74f1-4ab3-8408-45de83901e25')\"\n",
              "                title=\"Suggest charts\"\n",
              "                style=\"display:none;\">\n",
              "\n",
              "<svg xmlns=\"http://www.w3.org/2000/svg\" height=\"24px\"viewBox=\"0 0 24 24\"\n",
              "     width=\"24px\">\n",
              "    <g>\n",
              "        <path d=\"M19 3H5c-1.1 0-2 .9-2 2v14c0 1.1.9 2 2 2h14c1.1 0 2-.9 2-2V5c0-1.1-.9-2-2-2zM9 17H7v-7h2v7zm4 0h-2V7h2v10zm4 0h-2v-4h2v4z\"/>\n",
              "    </g>\n",
              "</svg>\n",
              "      </button>\n",
              "\n",
              "<style>\n",
              "  .colab-df-quickchart {\n",
              "      --bg-color: #E8F0FE;\n",
              "      --fill-color: #1967D2;\n",
              "      --hover-bg-color: #E2EBFA;\n",
              "      --hover-fill-color: #174EA6;\n",
              "      --disabled-fill-color: #AAA;\n",
              "      --disabled-bg-color: #DDD;\n",
              "  }\n",
              "\n",
              "  [theme=dark] .colab-df-quickchart {\n",
              "      --bg-color: #3B4455;\n",
              "      --fill-color: #D2E3FC;\n",
              "      --hover-bg-color: #434B5C;\n",
              "      --hover-fill-color: #FFFFFF;\n",
              "      --disabled-bg-color: #3B4455;\n",
              "      --disabled-fill-color: #666;\n",
              "  }\n",
              "\n",
              "  .colab-df-quickchart {\n",
              "    background-color: var(--bg-color);\n",
              "    border: none;\n",
              "    border-radius: 50%;\n",
              "    cursor: pointer;\n",
              "    display: none;\n",
              "    fill: var(--fill-color);\n",
              "    height: 32px;\n",
              "    padding: 0;\n",
              "    width: 32px;\n",
              "  }\n",
              "\n",
              "  .colab-df-quickchart:hover {\n",
              "    background-color: var(--hover-bg-color);\n",
              "    box-shadow: 0 1px 2px rgba(60, 64, 67, 0.3), 0 1px 3px 1px rgba(60, 64, 67, 0.15);\n",
              "    fill: var(--button-hover-fill-color);\n",
              "  }\n",
              "\n",
              "  .colab-df-quickchart-complete:disabled,\n",
              "  .colab-df-quickchart-complete:disabled:hover {\n",
              "    background-color: var(--disabled-bg-color);\n",
              "    fill: var(--disabled-fill-color);\n",
              "    box-shadow: none;\n",
              "  }\n",
              "\n",
              "  .colab-df-spinner {\n",
              "    border: 2px solid var(--fill-color);\n",
              "    border-color: transparent;\n",
              "    border-bottom-color: var(--fill-color);\n",
              "    animation:\n",
              "      spin 1s steps(1) infinite;\n",
              "  }\n",
              "\n",
              "  @keyframes spin {\n",
              "    0% {\n",
              "      border-color: transparent;\n",
              "      border-bottom-color: var(--fill-color);\n",
              "      border-left-color: var(--fill-color);\n",
              "    }\n",
              "    20% {\n",
              "      border-color: transparent;\n",
              "      border-left-color: var(--fill-color);\n",
              "      border-top-color: var(--fill-color);\n",
              "    }\n",
              "    30% {\n",
              "      border-color: transparent;\n",
              "      border-left-color: var(--fill-color);\n",
              "      border-top-color: var(--fill-color);\n",
              "      border-right-color: var(--fill-color);\n",
              "    }\n",
              "    40% {\n",
              "      border-color: transparent;\n",
              "      border-right-color: var(--fill-color);\n",
              "      border-top-color: var(--fill-color);\n",
              "    }\n",
              "    60% {\n",
              "      border-color: transparent;\n",
              "      border-right-color: var(--fill-color);\n",
              "    }\n",
              "    80% {\n",
              "      border-color: transparent;\n",
              "      border-right-color: var(--fill-color);\n",
              "      border-bottom-color: var(--fill-color);\n",
              "    }\n",
              "    90% {\n",
              "      border-color: transparent;\n",
              "      border-bottom-color: var(--fill-color);\n",
              "    }\n",
              "  }\n",
              "</style>\n",
              "\n",
              "      <script>\n",
              "        async function quickchart(key) {\n",
              "          const quickchartButtonEl =\n",
              "            document.querySelector('#' + key + ' button');\n",
              "          quickchartButtonEl.disabled = true;  // To prevent multiple clicks.\n",
              "          quickchartButtonEl.classList.add('colab-df-spinner');\n",
              "          try {\n",
              "            const charts = await google.colab.kernel.invokeFunction(\n",
              "                'suggestCharts', [key], {});\n",
              "          } catch (error) {\n",
              "            console.error('Error during call to suggestCharts:', error);\n",
              "          }\n",
              "          quickchartButtonEl.classList.remove('colab-df-spinner');\n",
              "          quickchartButtonEl.classList.add('colab-df-quickchart-complete');\n",
              "        }\n",
              "        (() => {\n",
              "          let quickchartButtonEl =\n",
              "            document.querySelector('#df-f8385e86-74f1-4ab3-8408-45de83901e25 button');\n",
              "          quickchartButtonEl.style.display =\n",
              "            google.colab.kernel.accessAllowed ? 'block' : 'none';\n",
              "        })();\n",
              "      </script>\n",
              "    </div>\n",
              "\n",
              "    </div>\n",
              "  </div>\n"
            ],
            "application/vnd.google.colaboratory.intrinsic+json": {
              "type": "dataframe",
              "variable_name": "df"
            }
          },
          "metadata": {},
          "execution_count": 2
        }
      ]
    },
    {
      "cell_type": "code",
      "source": [
        "df.shape"
      ],
      "metadata": {
        "colab": {
          "base_uri": "https://localhost:8080/"
        },
        "id": "ckEr1rV8o1Ut",
        "outputId": "ccdff20e-ad9c-4f8f-ef68-97586b98ed3f"
      },
      "execution_count": null,
      "outputs": [
        {
          "output_type": "execute_result",
          "data": {
            "text/plain": [
              "(550068, 10)"
            ]
          },
          "metadata": {},
          "execution_count": 3
        }
      ]
    },
    {
      "cell_type": "code",
      "source": [
        "df.info()"
      ],
      "metadata": {
        "colab": {
          "base_uri": "https://localhost:8080/"
        },
        "id": "pQL5t6tqoUr1",
        "outputId": "47878915-6225-4500-bad0-5c6211f2ad97"
      },
      "execution_count": null,
      "outputs": [
        {
          "output_type": "stream",
          "name": "stdout",
          "text": [
            "<class 'pandas.core.frame.DataFrame'>\n",
            "RangeIndex: 550068 entries, 0 to 550067\n",
            "Data columns (total 10 columns):\n",
            " #   Column                      Non-Null Count   Dtype \n",
            "---  ------                      --------------   ----- \n",
            " 0   User_ID                     550068 non-null  int64 \n",
            " 1   Product_ID                  550068 non-null  object\n",
            " 2   Gender                      550068 non-null  object\n",
            " 3   Age                         550068 non-null  object\n",
            " 4   Occupation                  550068 non-null  int64 \n",
            " 5   City_Category               550068 non-null  object\n",
            " 6   Stay_In_Current_City_Years  550068 non-null  object\n",
            " 7   Marital_Status              550068 non-null  int64 \n",
            " 8   Product_Category            550068 non-null  int64 \n",
            " 9   Purchase                    550068 non-null  int64 \n",
            "dtypes: int64(5), object(5)\n",
            "memory usage: 42.0+ MB\n"
          ]
        }
      ]
    },
    {
      "cell_type": "markdown",
      "source": [
        "Observations : There are 10 columns and 550068 data points. The columns, User_ID, Age,Marital Status, Product category and purchase are integer data type, rest all are object data type. There are no null cells in this dataset.\n"
      ],
      "metadata": {
        "id": "NKGq8l0UrQNo"
      }
    },
    {
      "cell_type": "code",
      "source": [
        "df[\"User_ID\"].count()"
      ],
      "metadata": {
        "colab": {
          "base_uri": "https://localhost:8080/"
        },
        "id": "dWcYE989rprd",
        "outputId": "3ff78019-1e94-423f-ad43-109c8de4ff58"
      },
      "execution_count": null,
      "outputs": [
        {
          "output_type": "execute_result",
          "data": {
            "text/plain": [
              "np.int64(550068)"
            ]
          },
          "metadata": {},
          "execution_count": 5
        }
      ]
    },
    {
      "cell_type": "markdown",
      "source": [
        "1.2 Non-Graphical Analysis: Value counts and unique attributes ​"
      ],
      "metadata": {
        "id": "azSqoxApcaSL"
      }
    },
    {
      "cell_type": "code",
      "source": [
        "df[\"Product_ID\"].value_counts().head(10)"
      ],
      "metadata": {
        "colab": {
          "base_uri": "https://localhost:8080/",
          "height": 429
        },
        "id": "muThsg4kr-RA",
        "outputId": "b2b701b9-bdb2-4adf-88c6-2739055dc807"
      },
      "execution_count": null,
      "outputs": [
        {
          "output_type": "execute_result",
          "data": {
            "text/plain": [
              "Product_ID\n",
              "P00265242    1880\n",
              "P00025442    1615\n",
              "P00110742    1612\n",
              "P00112142    1562\n",
              "P00057642    1470\n",
              "P00184942    1440\n",
              "P00046742    1438\n",
              "P00058042    1422\n",
              "P00059442    1406\n",
              "P00145042    1406\n",
              "Name: count, dtype: int64"
            ],
            "text/html": [
              "<div>\n",
              "<style scoped>\n",
              "    .dataframe tbody tr th:only-of-type {\n",
              "        vertical-align: middle;\n",
              "    }\n",
              "\n",
              "    .dataframe tbody tr th {\n",
              "        vertical-align: top;\n",
              "    }\n",
              "\n",
              "    .dataframe thead th {\n",
              "        text-align: right;\n",
              "    }\n",
              "</style>\n",
              "<table border=\"1\" class=\"dataframe\">\n",
              "  <thead>\n",
              "    <tr style=\"text-align: right;\">\n",
              "      <th></th>\n",
              "      <th>count</th>\n",
              "    </tr>\n",
              "    <tr>\n",
              "      <th>Product_ID</th>\n",
              "      <th></th>\n",
              "    </tr>\n",
              "  </thead>\n",
              "  <tbody>\n",
              "    <tr>\n",
              "      <th>P00265242</th>\n",
              "      <td>1880</td>\n",
              "    </tr>\n",
              "    <tr>\n",
              "      <th>P00025442</th>\n",
              "      <td>1615</td>\n",
              "    </tr>\n",
              "    <tr>\n",
              "      <th>P00110742</th>\n",
              "      <td>1612</td>\n",
              "    </tr>\n",
              "    <tr>\n",
              "      <th>P00112142</th>\n",
              "      <td>1562</td>\n",
              "    </tr>\n",
              "    <tr>\n",
              "      <th>P00057642</th>\n",
              "      <td>1470</td>\n",
              "    </tr>\n",
              "    <tr>\n",
              "      <th>P00184942</th>\n",
              "      <td>1440</td>\n",
              "    </tr>\n",
              "    <tr>\n",
              "      <th>P00046742</th>\n",
              "      <td>1438</td>\n",
              "    </tr>\n",
              "    <tr>\n",
              "      <th>P00058042</th>\n",
              "      <td>1422</td>\n",
              "    </tr>\n",
              "    <tr>\n",
              "      <th>P00059442</th>\n",
              "      <td>1406</td>\n",
              "    </tr>\n",
              "    <tr>\n",
              "      <th>P00145042</th>\n",
              "      <td>1406</td>\n",
              "    </tr>\n",
              "  </tbody>\n",
              "</table>\n",
              "</div><br><label><b>dtype:</b> int64</label>"
            ]
          },
          "metadata": {},
          "execution_count": 6
        }
      ]
    },
    {
      "cell_type": "code",
      "source": [
        "gender_cnt=df.groupby(\"Gender\")[\"User_ID\"].nunique()\n",
        "gen_cnt = round(gender_cnt / gender_cnt.sum(),2)*100\n",
        "gen_cnt"
      ],
      "metadata": {
        "colab": {
          "base_uri": "https://localhost:8080/",
          "height": 178
        },
        "id": "uf_t2uNwr-Ne",
        "outputId": "79145e78-a6a7-4124-e33a-367a8ccd425a"
      },
      "execution_count": null,
      "outputs": [
        {
          "output_type": "execute_result",
          "data": {
            "text/plain": [
              "Gender\n",
              "F    28.0\n",
              "M    72.0\n",
              "Name: User_ID, dtype: float64"
            ],
            "text/html": [
              "<div>\n",
              "<style scoped>\n",
              "    .dataframe tbody tr th:only-of-type {\n",
              "        vertical-align: middle;\n",
              "    }\n",
              "\n",
              "    .dataframe tbody tr th {\n",
              "        vertical-align: top;\n",
              "    }\n",
              "\n",
              "    .dataframe thead th {\n",
              "        text-align: right;\n",
              "    }\n",
              "</style>\n",
              "<table border=\"1\" class=\"dataframe\">\n",
              "  <thead>\n",
              "    <tr style=\"text-align: right;\">\n",
              "      <th></th>\n",
              "      <th>User_ID</th>\n",
              "    </tr>\n",
              "    <tr>\n",
              "      <th>Gender</th>\n",
              "      <th></th>\n",
              "    </tr>\n",
              "  </thead>\n",
              "  <tbody>\n",
              "    <tr>\n",
              "      <th>F</th>\n",
              "      <td>28.0</td>\n",
              "    </tr>\n",
              "    <tr>\n",
              "      <th>M</th>\n",
              "      <td>72.0</td>\n",
              "    </tr>\n",
              "  </tbody>\n",
              "</table>\n",
              "</div><br><label><b>dtype:</b> float64</label>"
            ]
          },
          "metadata": {},
          "execution_count": 7
        }
      ]
    },
    {
      "cell_type": "code",
      "source": [
        "age_cnt=df.groupby(\"Age\")[\"User_ID\"].nunique()\n",
        "age_cnt = round(age_cnt / age_cnt.sum(),2)*100\n",
        "age_cnt.sort_values(ascending=False)"
      ],
      "metadata": {
        "colab": {
          "base_uri": "https://localhost:8080/",
          "height": 335
        },
        "id": "a9sih1Ed0x7-",
        "outputId": "6d5d0b62-e66d-436f-8ece-65214b8f27ba"
      },
      "execution_count": null,
      "outputs": [
        {
          "output_type": "execute_result",
          "data": {
            "text/plain": [
              "Age\n",
              "26-35    35.0\n",
              "36-45    20.0\n",
              "18-25    18.0\n",
              "46-50     9.0\n",
              "51-55     8.0\n",
              "55+       6.0\n",
              "0-17      4.0\n",
              "Name: User_ID, dtype: float64"
            ],
            "text/html": [
              "<div>\n",
              "<style scoped>\n",
              "    .dataframe tbody tr th:only-of-type {\n",
              "        vertical-align: middle;\n",
              "    }\n",
              "\n",
              "    .dataframe tbody tr th {\n",
              "        vertical-align: top;\n",
              "    }\n",
              "\n",
              "    .dataframe thead th {\n",
              "        text-align: right;\n",
              "    }\n",
              "</style>\n",
              "<table border=\"1\" class=\"dataframe\">\n",
              "  <thead>\n",
              "    <tr style=\"text-align: right;\">\n",
              "      <th></th>\n",
              "      <th>User_ID</th>\n",
              "    </tr>\n",
              "    <tr>\n",
              "      <th>Age</th>\n",
              "      <th></th>\n",
              "    </tr>\n",
              "  </thead>\n",
              "  <tbody>\n",
              "    <tr>\n",
              "      <th>26-35</th>\n",
              "      <td>35.0</td>\n",
              "    </tr>\n",
              "    <tr>\n",
              "      <th>36-45</th>\n",
              "      <td>20.0</td>\n",
              "    </tr>\n",
              "    <tr>\n",
              "      <th>18-25</th>\n",
              "      <td>18.0</td>\n",
              "    </tr>\n",
              "    <tr>\n",
              "      <th>46-50</th>\n",
              "      <td>9.0</td>\n",
              "    </tr>\n",
              "    <tr>\n",
              "      <th>51-55</th>\n",
              "      <td>8.0</td>\n",
              "    </tr>\n",
              "    <tr>\n",
              "      <th>55+</th>\n",
              "      <td>6.0</td>\n",
              "    </tr>\n",
              "    <tr>\n",
              "      <th>0-17</th>\n",
              "      <td>4.0</td>\n",
              "    </tr>\n",
              "  </tbody>\n",
              "</table>\n",
              "</div><br><label><b>dtype:</b> float64</label>"
            ]
          },
          "metadata": {},
          "execution_count": 8
        }
      ]
    },
    {
      "cell_type": "code",
      "source": [
        "occ_cnt=df.groupby(\"Occupation\")[\"User_ID\"].nunique()\n",
        "occ_cnt = round(occ_cnt / occ_cnt.sum(),2)*100\n",
        "occ_cnt.sort_values(ascending=False).head(6)"
      ],
      "metadata": {
        "colab": {
          "base_uri": "https://localhost:8080/",
          "height": 303
        },
        "id": "c2W5p4eJr-Hx",
        "outputId": "8910688f-a9af-428c-a279-2ae7e12dc613"
      },
      "execution_count": null,
      "outputs": [
        {
          "output_type": "execute_result",
          "data": {
            "text/plain": [
              "Occupation\n",
              "4     13.0\n",
              "0     12.0\n",
              "7     11.0\n",
              "1      9.0\n",
              "17     8.0\n",
              "12     6.0\n",
              "Name: User_ID, dtype: float64"
            ],
            "text/html": [
              "<div>\n",
              "<style scoped>\n",
              "    .dataframe tbody tr th:only-of-type {\n",
              "        vertical-align: middle;\n",
              "    }\n",
              "\n",
              "    .dataframe tbody tr th {\n",
              "        vertical-align: top;\n",
              "    }\n",
              "\n",
              "    .dataframe thead th {\n",
              "        text-align: right;\n",
              "    }\n",
              "</style>\n",
              "<table border=\"1\" class=\"dataframe\">\n",
              "  <thead>\n",
              "    <tr style=\"text-align: right;\">\n",
              "      <th></th>\n",
              "      <th>User_ID</th>\n",
              "    </tr>\n",
              "    <tr>\n",
              "      <th>Occupation</th>\n",
              "      <th></th>\n",
              "    </tr>\n",
              "  </thead>\n",
              "  <tbody>\n",
              "    <tr>\n",
              "      <th>4</th>\n",
              "      <td>13.0</td>\n",
              "    </tr>\n",
              "    <tr>\n",
              "      <th>0</th>\n",
              "      <td>12.0</td>\n",
              "    </tr>\n",
              "    <tr>\n",
              "      <th>7</th>\n",
              "      <td>11.0</td>\n",
              "    </tr>\n",
              "    <tr>\n",
              "      <th>1</th>\n",
              "      <td>9.0</td>\n",
              "    </tr>\n",
              "    <tr>\n",
              "      <th>17</th>\n",
              "      <td>8.0</td>\n",
              "    </tr>\n",
              "    <tr>\n",
              "      <th>12</th>\n",
              "      <td>6.0</td>\n",
              "    </tr>\n",
              "  </tbody>\n",
              "</table>\n",
              "</div><br><label><b>dtype:</b> float64</label>"
            ]
          },
          "metadata": {},
          "execution_count": 9
        }
      ]
    },
    {
      "cell_type": "code",
      "source": [
        "city_cnt=df.groupby(\"City_Category\")[\"User_ID\"].nunique()\n",
        "city_cnt = round(city_cnt / city_cnt.sum(),2)*100\n",
        "city_cnt.sort_values(ascending=False)"
      ],
      "metadata": {
        "colab": {
          "base_uri": "https://localhost:8080/",
          "height": 209
        },
        "id": "MpUjRB4jr-E3",
        "outputId": "c0b4aaf7-e72f-45cc-dcfb-e4c50c30934d"
      },
      "execution_count": null,
      "outputs": [
        {
          "output_type": "execute_result",
          "data": {
            "text/plain": [
              "City_Category\n",
              "C    53.0\n",
              "B    29.0\n",
              "A    18.0\n",
              "Name: User_ID, dtype: float64"
            ],
            "text/html": [
              "<div>\n",
              "<style scoped>\n",
              "    .dataframe tbody tr th:only-of-type {\n",
              "        vertical-align: middle;\n",
              "    }\n",
              "\n",
              "    .dataframe tbody tr th {\n",
              "        vertical-align: top;\n",
              "    }\n",
              "\n",
              "    .dataframe thead th {\n",
              "        text-align: right;\n",
              "    }\n",
              "</style>\n",
              "<table border=\"1\" class=\"dataframe\">\n",
              "  <thead>\n",
              "    <tr style=\"text-align: right;\">\n",
              "      <th></th>\n",
              "      <th>User_ID</th>\n",
              "    </tr>\n",
              "    <tr>\n",
              "      <th>City_Category</th>\n",
              "      <th></th>\n",
              "    </tr>\n",
              "  </thead>\n",
              "  <tbody>\n",
              "    <tr>\n",
              "      <th>C</th>\n",
              "      <td>53.0</td>\n",
              "    </tr>\n",
              "    <tr>\n",
              "      <th>B</th>\n",
              "      <td>29.0</td>\n",
              "    </tr>\n",
              "    <tr>\n",
              "      <th>A</th>\n",
              "      <td>18.0</td>\n",
              "    </tr>\n",
              "  </tbody>\n",
              "</table>\n",
              "</div><br><label><b>dtype:</b> float64</label>"
            ]
          },
          "metadata": {},
          "execution_count": 10
        }
      ]
    },
    {
      "cell_type": "code",
      "source": [
        "stay_cnt=df.groupby(\"Stay_In_Current_City_Years\")[\"User_ID\"].nunique()\n",
        "stay_cnt = round(stay_cnt / stay_cnt.sum(),2)*100\n",
        "stay_cnt.sort_values(ascending=False)"
      ],
      "metadata": {
        "colab": {
          "base_uri": "https://localhost:8080/",
          "height": 272
        },
        "id": "E7MAGLEAs6Q_",
        "outputId": "8ec1a68c-f03e-4973-a2ac-3efe6d394178"
      },
      "execution_count": null,
      "outputs": [
        {
          "output_type": "execute_result",
          "data": {
            "text/plain": [
              "Stay_In_Current_City_Years\n",
              "1     35.0\n",
              "2     19.0\n",
              "3     17.0\n",
              "4+    15.0\n",
              "0     13.0\n",
              "Name: User_ID, dtype: float64"
            ],
            "text/html": [
              "<div>\n",
              "<style scoped>\n",
              "    .dataframe tbody tr th:only-of-type {\n",
              "        vertical-align: middle;\n",
              "    }\n",
              "\n",
              "    .dataframe tbody tr th {\n",
              "        vertical-align: top;\n",
              "    }\n",
              "\n",
              "    .dataframe thead th {\n",
              "        text-align: right;\n",
              "    }\n",
              "</style>\n",
              "<table border=\"1\" class=\"dataframe\">\n",
              "  <thead>\n",
              "    <tr style=\"text-align: right;\">\n",
              "      <th></th>\n",
              "      <th>User_ID</th>\n",
              "    </tr>\n",
              "    <tr>\n",
              "      <th>Stay_In_Current_City_Years</th>\n",
              "      <th></th>\n",
              "    </tr>\n",
              "  </thead>\n",
              "  <tbody>\n",
              "    <tr>\n",
              "      <th>1</th>\n",
              "      <td>35.0</td>\n",
              "    </tr>\n",
              "    <tr>\n",
              "      <th>2</th>\n",
              "      <td>19.0</td>\n",
              "    </tr>\n",
              "    <tr>\n",
              "      <th>3</th>\n",
              "      <td>17.0</td>\n",
              "    </tr>\n",
              "    <tr>\n",
              "      <th>4+</th>\n",
              "      <td>15.0</td>\n",
              "    </tr>\n",
              "    <tr>\n",
              "      <th>0</th>\n",
              "      <td>13.0</td>\n",
              "    </tr>\n",
              "  </tbody>\n",
              "</table>\n",
              "</div><br><label><b>dtype:</b> float64</label>"
            ]
          },
          "metadata": {},
          "execution_count": 11
        }
      ]
    },
    {
      "cell_type": "code",
      "source": [
        "ms_cnt=df.groupby(\"Marital_Status\")[\"User_ID\"].nunique()\n",
        "ms_cnt = round(ms_cnt / ms_cnt.sum(),2)*100\n",
        "ms_cnt.sort_values(ascending=False)"
      ],
      "metadata": {
        "colab": {
          "base_uri": "https://localhost:8080/",
          "height": 178
        },
        "id": "lEzmgmdws6Np",
        "outputId": "9fa5db69-22ab-49d0-8af5-83e8c9d3dd99"
      },
      "execution_count": null,
      "outputs": [
        {
          "output_type": "execute_result",
          "data": {
            "text/plain": [
              "Marital_Status\n",
              "0    58.0\n",
              "1    42.0\n",
              "Name: User_ID, dtype: float64"
            ],
            "text/html": [
              "<div>\n",
              "<style scoped>\n",
              "    .dataframe tbody tr th:only-of-type {\n",
              "        vertical-align: middle;\n",
              "    }\n",
              "\n",
              "    .dataframe tbody tr th {\n",
              "        vertical-align: top;\n",
              "    }\n",
              "\n",
              "    .dataframe thead th {\n",
              "        text-align: right;\n",
              "    }\n",
              "</style>\n",
              "<table border=\"1\" class=\"dataframe\">\n",
              "  <thead>\n",
              "    <tr style=\"text-align: right;\">\n",
              "      <th></th>\n",
              "      <th>User_ID</th>\n",
              "    </tr>\n",
              "    <tr>\n",
              "      <th>Marital_Status</th>\n",
              "      <th></th>\n",
              "    </tr>\n",
              "  </thead>\n",
              "  <tbody>\n",
              "    <tr>\n",
              "      <th>0</th>\n",
              "      <td>58.0</td>\n",
              "    </tr>\n",
              "    <tr>\n",
              "      <th>1</th>\n",
              "      <td>42.0</td>\n",
              "    </tr>\n",
              "  </tbody>\n",
              "</table>\n",
              "</div><br><label><b>dtype:</b> float64</label>"
            ]
          },
          "metadata": {},
          "execution_count": 12
        }
      ]
    },
    {
      "cell_type": "markdown",
      "source": [
        "1.3 Visual Analysis - Univariate & Bivariate\n",
        "For continuous variable(s): Distplot, countplot, histogram for univariate analysis\n",
        "For categorical variable(s): Boxplot\n",
        "For correlation: Heatmaps, Pairplots"
      ],
      "metadata": {
        "id": "o1ReB3nKceYD"
      }
    },
    {
      "cell_type": "code",
      "source": [
        "plt.figure(figsize=(15,8))\n",
        "plt.subplots_adjust(left=0.1, right=0.9, top=0.9, bottom=0.1,\n",
        "wspace=0.3, hspace=0.4)\n",
        "plt.subplot(2,3,1)\n",
        "plt.bar(gen_cnt.index,gen_cnt.values)\n",
        "plt.xlabel(\"Count by Gender\")\n",
        "plt.subplot(2,3,2)\n",
        "plt.bar(age_cnt.index,age_cnt.values)\n",
        "plt.xlabel(\"Count by Age\")\n",
        "plt.subplot(2,3,3)\n",
        "plt.bar(occ_cnt.index,occ_cnt.values)\n",
        "plt.xlabel(\"Count by Occupation\")\n",
        "plt.subplot(2,3,4)\n",
        "plt.bar(city_cnt.index,city_cnt.values)\n",
        "plt.xlabel(\"Count by City Category\")\n",
        "plt.subplot(2,3,5)\n",
        "plt.bar(stay_cnt.index,stay_cnt.values)\n",
        "plt.xlabel(\"Count by Stay In Current City Years\")\n",
        "plt.subplot(2,3,6)\n",
        "plt.bar(ms_cnt.index,ms_cnt.values)\n",
        "plt.xlabel(\"Count by Marital Status\")"
      ],
      "metadata": {
        "colab": {
          "base_uri": "https://localhost:8080/",
          "height": 737
        },
        "id": "N1idCCDxs6Hv",
        "outputId": "f8fb6247-2521-4d8a-d24c-76dc3149b575"
      },
      "execution_count": null,
      "outputs": [
        {
          "output_type": "execute_result",
          "data": {
            "text/plain": [
              "Text(0.5, 0, 'Count by Marital Status')"
            ]
          },
          "metadata": {},
          "execution_count": 13
        },
        {
          "output_type": "display_data",
          "data": {
            "text/plain": [
              "<Figure size 1500x800 with 6 Axes>"
            ],
            "image/png": "[encoded data removed]"
          },
          "metadata": {}
        }
      ]
    },
    {
      "cell_type": "markdown",
      "source": [
        "Observations :\n",
        "\n",
        "1.   Highesting selling product id is P00265242 with 1880 items sold\n",
        "2.   72% of all purchases are done my Male\n",
        "3.   Most of the purchases are done by 26-35 years of age group with 35\n",
        "% of total purchases.\n",
        "4.  Highest occupation category is 4 with 13% fo total\n",
        "5.  Most of the customer is from city category C with 53% of customers.\n",
        "6.  Most of the customers are reloacted to a new city within last year and they are 35% of total customers\n",
        "7.  Marital status is close with 58% customers are not married  "
      ],
      "metadata": {
        "id": "BaRoIkptyaF9"
      }
    },
    {
      "cell_type": "markdown",
      "source": [
        "------------------------------------------------------------------------------------------------"
      ],
      "metadata": {
        "id": "UXp4oab0b6jK"
      }
    },
    {
      "cell_type": "code",
      "source": [
        "plt.figure(figsize=(15,8))\n",
        "plt.subplots_adjust(left=0.1, right=0.9, top=0.9, bottom=0.1,\n",
        "wspace=0.3, hspace=0.4)\n",
        "plt.subplot(2,3,1)\n",
        "sns.histplot(data=df,\n",
        "             x=\"Product_Category\",\n",
        "             hue=\"Age\",\n",
        "             multiple=\"stack\",\n",
        "             shrink=1)\n",
        "plt.subplot(2,2,2)\n",
        "sns.countplot(data=df, x=\"Product_Category\", hue=\"Gender\", palette=\"pastel\")\n",
        "plt.title(\"Product Category Preferences by Gender\", fontsize=14)\n",
        "plt.xlabel(\"Product Category\")\n",
        "plt.ylabel(\"Count\")\n",
        "plt.subplot(2,3,4)\n",
        "sns.boxplot(data=df,y=\"Purchase\",x=\"Gender\",hue=\"City_Category\")\n",
        "plt.subplot(2,2,4)\n",
        "sns.boxplot(data=df,x=\"Age\",y=\"Purchase\",hue=\"Marital_Status\")\n",
        "plt.show()"
      ],
      "metadata": {
        "colab": {
          "base_uri": "https://localhost:8080/",
          "height": 743
        },
        "id": "WYdCUvZws6E8",
        "outputId": "069ad308-553b-479b-aa68-89f5718435f1"
      },
      "execution_count": null,
      "outputs": [
        {
          "output_type": "display_data",
          "data": {
            "text/plain": [
              "<Figure size 1500x800 with 4 Axes>"
            ],
            "image/png": "[encoded data removed]"
          },
          "metadata": {}
        }
      ]
    },
    {
      "cell_type": "markdown",
      "source": [
        "Observation :\n",
        "\n",
        "1.   Most popular product category are 1,5 and 8, with age group of 26 to 35 years old\n",
        "2.   Overall male have purchased more where product category 1,5 and 8 have biggest margin\n",
        "3.   City C and gender male are leading in purchasing\n",
        "4.   purchase median are pretty close among all age groups and marital status\n",
        "\n"
      ],
      "metadata": {
        "id": "xggv7Pqr3Cot"
      }
    },
    {
      "cell_type": "code",
      "source": [
        " df2=df[[\"Occupation\",\"Product_Category\",\"Purchase\"]]\n",
        " sns.heatmap(df2.corr(),annot=True)"
      ],
      "metadata": {
        "colab": {
          "base_uri": "https://localhost:8080/",
          "height": 452
        },
        "id": "DY1VL9YH3COd",
        "outputId": "077d6a01-4600-48ce-fa9a-850434fdaa0c"
      },
      "execution_count": null,
      "outputs": [
        {
          "output_type": "execute_result",
          "data": {
            "text/plain": [
              "<Axes: >"
            ]
          },
          "metadata": {},
          "execution_count": 15
        },
        {
          "output_type": "display_data",
          "data": {
            "text/plain": [
              "<Figure size 640x480 with 2 Axes>"
            ],
            "image/png": "[encoded data removed]"
          },
          "metadata": {}
        }
      ]
    },
    {
      "cell_type": "markdown",
      "source": [
        "------------------------------------------------------------------------------------------------\n"
      ],
      "metadata": {
        "id": "B-wHOilkb4VN"
      }
    },
    {
      "cell_type": "markdown",
      "source": [
        "2. Missing Value & Outlier Detection"
      ],
      "metadata": {
        "id": "M5PBQm0kcjZp"
      }
    },
    {
      "cell_type": "code",
      "source": [
        "df.describe()"
      ],
      "metadata": {
        "colab": {
          "base_uri": "https://localhost:8080/",
          "height": 300
        },
        "id": "l2_yC0Jn3CHr",
        "outputId": "2afcf49d-4077-4dc4-8d14-7818ccfcf03c"
      },
      "execution_count": null,
      "outputs": [
        {
          "output_type": "execute_result",
          "data": {
            "text/plain": [
              "            User_ID     Occupation  Marital_Status  Product_Category  \\\n",
              "count  5.500680e+05  550068.000000   550068.000000     550068.000000   \n",
              "mean   1.003029e+06       8.076707        0.409653          5.404270   \n",
              "std    1.727592e+03       6.522660        0.491770          3.936211   \n",
              "min    1.000001e+06       0.000000        0.000000          1.000000   \n",
              "25%    1.001516e+06       2.000000        0.000000          1.000000   \n",
              "50%    1.003077e+06       7.000000        0.000000          5.000000   \n",
              "75%    1.004478e+06      14.000000        1.000000          8.000000   \n",
              "max    1.006040e+06      20.000000        1.000000         20.000000   \n",
              "\n",
              "            Purchase  \n",
              "count  550068.000000  \n",
              "mean     9263.968713  \n",
              "std      5023.065394  \n",
              "min        12.000000  \n",
              "25%      5823.000000  \n",
              "50%      8047.000000  \n",
              "75%     12054.000000  \n",
              "max     23961.000000  "
            ],
            "text/html": [
              "\n",
              "  <div id=\"df-a01771cb-d70e-481b-a6dd-08196af3ff75\" class=\"colab-df-container\">\n",
              "    <div>\n",
              "<style scoped>\n",
              "    .dataframe tbody tr th:only-of-type {\n",
              "        vertical-align: middle;\n",
              "    }\n",
              "\n",
              "    .dataframe tbody tr th {\n",
              "        vertical-align: top;\n",
              "    }\n",
              "\n",
              "    .dataframe thead th {\n",
              "        text-align: right;\n",
              "    }\n",
              "</style>\n",
              "<table border=\"1\" class=\"dataframe\">\n",
              "  <thead>\n",
              "    <tr style=\"text-align: right;\">\n",
              "      <th></th>\n",
              "      <th>User_ID</th>\n",
              "      <th>Occupation</th>\n",
              "      <th>Marital_Status</th>\n",
              "      <th>Product_Category</th>\n",
              "      <th>Purchase</th>\n",
              "    </tr>\n",
              "  </thead>\n",
              "  <tbody>\n",
              "    <tr>\n",
              "      <th>count</th>\n",
              "      <td>5.500680e+05</td>\n",
              "      <td>550068.000000</td>\n",
              "      <td>550068.000000</td>\n",
              "      <td>550068.000000</td>\n",
              "      <td>550068.000000</td>\n",
              "    </tr>\n",
              "    <tr>\n",
              "      <th>mean</th>\n",
              "      <td>1.003029e+06</td>\n",
              "      <td>8.076707</td>\n",
              "      <td>0.409653</td>\n",
              "      <td>5.404270</td>\n",
              "      <td>9263.968713</td>\n",
              "    </tr>\n",
              "    <tr>\n",
              "      <th>std</th>\n",
              "      <td>1.727592e+03</td>\n",
              "      <td>6.522660</td>\n",
              "      <td>0.491770</td>\n",
              "      <td>3.936211</td>\n",
              "      <td>5023.065394</td>\n",
              "    </tr>\n",
              "    <tr>\n",
              "      <th>min</th>\n",
              "      <td>1.000001e+06</td>\n",
              "      <td>0.000000</td>\n",
              "      <td>0.000000</td>\n",
              "      <td>1.000000</td>\n",
              "      <td>12.000000</td>\n",
              "    </tr>\n",
              "    <tr>\n",
              "      <th>25%</th>\n",
              "      <td>1.001516e+06</td>\n",
              "      <td>2.000000</td>\n",
              "      <td>0.000000</td>\n",
              "      <td>1.000000</td>\n",
              "      <td>5823.000000</td>\n",
              "    </tr>\n",
              "    <tr>\n",
              "      <th>50%</th>\n",
              "      <td>1.003077e+06</td>\n",
              "      <td>7.000000</td>\n",
              "      <td>0.000000</td>\n",
              "      <td>5.000000</td>\n",
              "      <td>8047.000000</td>\n",
              "    </tr>\n",
              "    <tr>\n",
              "      <th>75%</th>\n",
              "      <td>1.004478e+06</td>\n",
              "      <td>14.000000</td>\n",
              "      <td>1.000000</td>\n",
              "      <td>8.000000</td>\n",
              "      <td>12054.000000</td>\n",
              "    </tr>\n",
              "    <tr>\n",
              "      <th>max</th>\n",
              "      <td>1.006040e+06</td>\n",
              "      <td>20.000000</td>\n",
              "      <td>1.000000</td>\n",
              "      <td>20.000000</td>\n",
              "      <td>23961.000000</td>\n",
              "    </tr>\n",
              "  </tbody>\n",
              "</table>\n",
              "</div>\n",
              "    <div class=\"colab-df-buttons\">\n",
              "\n",
              "  <div class=\"colab-df-container\">\n",
              "    <button class=\"colab-df-convert\" onclick=\"convertToInteractive('df-a01771cb-d70e-481b-a6dd-08196af3ff75')\"\n",
              "            title=\"Convert this dataframe to an interactive table.\"\n",
              "            style=\"display:none;\">\n",
              "\n",
              "  <svg xmlns=\"http://www.w3.org/2000/svg\" height=\"24px\" viewBox=\"0 -960 960 960\">\n",
              "    <path d=\"M120-120v-720h720v720H120Zm60-500h600v-160H180v160Zm220 220h160v-160H400v160Zm0 220h160v-160H400v160ZM180-400h160v-160H180v160Zm440 0h160v-160H620v160ZM180-180h160v-160H180v160Zm440 0h160v-160H620v160Z\"/>\n",
              "  </svg>\n",
              "    </button>\n",
              "\n",
              "  <style>\n",
              "    .colab-df-container {\n",
              "      display:flex;\n",
              "      gap: 12px;\n",
              "    }\n",
              "\n",
              "    .colab-df-convert {\n",
              "      background-color: #E8F0FE;\n",
              "      border: none;\n",
              "      border-radius: 50%;\n",
              "      cursor: pointer;\n",
              "      display: none;\n",
              "      fill: #1967D2;\n",
              "      height: 32px;\n",
              "      padding: 0 0 0 0;\n",
              "      width: 32px;\n",
              "    }\n",
              "\n",
              "    .colab-df-convert:hover {\n",
              "      background-color: #E2EBFA;\n",
              "      box-shadow: 0px 1px 2px rgba(60, 64, 67, 0.3), 0px 1px 3px 1px rgba(60, 64, 67, 0.15);\n",
              "      fill: #174EA6;\n",
              "    }\n",
              "\n",
              "    .colab-df-buttons div {\n",
              "      margin-bottom: 4px;\n",
              "    }\n",
              "\n",
              "    [theme=dark] .colab-df-convert {\n",
              "      background-color: #3B4455;\n",
              "      fill: #D2E3FC;\n",
              "    }\n",
              "\n",
              "    [theme=dark] .colab-df-convert:hover {\n",
              "      background-color: #434B5C;\n",
              "      box-shadow: 0px 1px 3px 1px rgba(0, 0, 0, 0.15);\n",
              "      filter: drop-shadow(0px 1px 2px rgba(0, 0, 0, 0.3));\n",
              "      fill: #FFFFFF;\n",
              "    }\n",
              "  </style>\n",
              "\n",
              "    <script>\n",
              "      const buttonEl =\n",
              "        document.querySelector('#df-a01771cb-d70e-481b-a6dd-08196af3ff75 button.colab-df-convert');\n",
              "      buttonEl.style.display =\n",
              "        google.colab.kernel.accessAllowed ? 'block' : 'none';\n",
              "\n",
              "      async function convertToInteractive(key) {\n",
              "        const element = document.querySelector('#df-a01771cb-d70e-481b-a6dd-08196af3ff75');\n",
              "        const dataTable =\n",
              "          await google.colab.kernel.invokeFunction('convertToInteractive',\n",
              "                                                    [key], {});\n",
              "        if (!dataTable) return;\n",
              "\n",
              "        const docLinkHtml = 'Like what you see? Visit the ' +\n",
              "          '<a target=\"_blank\" href=https://colab.research.google.com/notebooks/data_table.ipynb>data table notebook</a>'\n",
              "          + ' to learn more about interactive tables.';\n",
              "        element.innerHTML = '';\n",
              "        dataTable['output_type'] = 'display_data';\n",
              "        await google.colab.output.renderOutput(dataTable, element);\n",
              "        const docLink = document.createElement('div');\n",
              "        docLink.innerHTML = docLinkHtml;\n",
              "        element.appendChild(docLink);\n",
              "      }\n",
              "    </script>\n",
              "  </div>\n",
              "\n",
              "\n",
              "    <div id=\"df-d03a7e0d-6229-4838-9120-43b59af24463\">\n",
              "      <button class=\"colab-df-quickchart\" onclick=\"quickchart('df-d03a7e0d-6229-4838-9120-43b59af24463')\"\n",
              "                title=\"Suggest charts\"\n",
              "                style=\"display:none;\">\n",
              "\n",
              "<svg xmlns=\"http://www.w3.org/2000/svg\" height=\"24px\"viewBox=\"0 0 24 24\"\n",
              "     width=\"24px\">\n",
              "    <g>\n",
              "        <path d=\"M19 3H5c-1.1 0-2 .9-2 2v14c0 1.1.9 2 2 2h14c1.1 0 2-.9 2-2V5c0-1.1-.9-2-2-2zM9 17H7v-7h2v7zm4 0h-2V7h2v10zm4 0h-2v-4h2v4z\"/>\n",
              "    </g>\n",
              "</svg>\n",
              "      </button>\n",
              "\n",
              "<style>\n",
              "  .colab-df-quickchart {\n",
              "      --bg-color: #E8F0FE;\n",
              "      --fill-color: #1967D2;\n",
              "      --hover-bg-color: #E2EBFA;\n",
              "      --hover-fill-color: #174EA6;\n",
              "      --disabled-fill-color: #AAA;\n",
              "      --disabled-bg-color: #DDD;\n",
              "  }\n",
              "\n",
              "  [theme=dark] .colab-df-quickchart {\n",
              "      --bg-color: #3B4455;\n",
              "      --fill-color: #D2E3FC;\n",
              "      --hover-bg-color: #434B5C;\n",
              "      --hover-fill-color: #FFFFFF;\n",
              "      --disabled-bg-color: #3B4455;\n",
              "      --disabled-fill-color: #666;\n",
              "  }\n",
              "\n",
              "  .colab-df-quickchart {\n",
              "    background-color: var(--bg-color);\n",
              "    border: none;\n",
              "    border-radius: 50%;\n",
              "    cursor: pointer;\n",
              "    display: none;\n",
              "    fill: var(--fill-color);\n",
              "    height: 32px;\n",
              "    padding: 0;\n",
              "    width: 32px;\n",
              "  }\n",
              "\n",
              "  .colab-df-quickchart:hover {\n",
              "    background-color: var(--hover-bg-color);\n",
              "    box-shadow: 0 1px 2px rgba(60, 64, 67, 0.3), 0 1px 3px 1px rgba(60, 64, 67, 0.15);\n",
              "    fill: var(--button-hover-fill-color);\n",
              "  }\n",
              "\n",
              "  .colab-df-quickchart-complete:disabled,\n",
              "  .colab-df-quickchart-complete:disabled:hover {\n",
              "    background-color: var(--disabled-bg-color);\n",
              "    fill: var(--disabled-fill-color);\n",
              "    box-shadow: none;\n",
              "  }\n",
              "\n",
              "  .colab-df-spinner {\n",
              "    border: 2px solid var(--fill-color);\n",
              "    border-color: transparent;\n",
              "    border-bottom-color: var(--fill-color);\n",
              "    animation:\n",
              "      spin 1s steps(1) infinite;\n",
              "  }\n",
              "\n",
              "  @keyframes spin {\n",
              "    0% {\n",
              "      border-color: transparent;\n",
              "      border-bottom-color: var(--fill-color);\n",
              "      border-left-color: var(--fill-color);\n",
              "    }\n",
              "    20% {\n",
              "      border-color: transparent;\n",
              "      border-left-color: var(--fill-color);\n",
              "      border-top-color: var(--fill-color);\n",
              "    }\n",
              "    30% {\n",
              "      border-color: transparent;\n",
              "      border-left-color: var(--fill-color);\n",
              "      border-top-color: var(--fill-color);\n",
              "      border-right-color: var(--fill-color);\n",
              "    }\n",
              "    40% {\n",
              "      border-color: transparent;\n",
              "      border-right-color: var(--fill-color);\n",
              "      border-top-color: var(--fill-color);\n",
              "    }\n",
              "    60% {\n",
              "      border-color: transparent;\n",
              "      border-right-color: var(--fill-color);\n",
              "    }\n",
              "    80% {\n",
              "      border-color: transparent;\n",
              "      border-right-color: var(--fill-color);\n",
              "      border-bottom-color: var(--fill-color);\n",
              "    }\n",
              "    90% {\n",
              "      border-color: transparent;\n",
              "      border-bottom-color: var(--fill-color);\n",
              "    }\n",
              "  }\n",
              "</style>\n",
              "\n",
              "      <script>\n",
              "        async function quickchart(key) {\n",
              "          const quickchartButtonEl =\n",
              "            document.querySelector('#' + key + ' button');\n",
              "          quickchartButtonEl.disabled = true;  // To prevent multiple clicks.\n",
              "          quickchartButtonEl.classList.add('colab-df-spinner');\n",
              "          try {\n",
              "            const charts = await google.colab.kernel.invokeFunction(\n",
              "                'suggestCharts', [key], {});\n",
              "          } catch (error) {\n",
              "            console.error('Error during call to suggestCharts:', error);\n",
              "          }\n",
              "          quickchartButtonEl.classList.remove('colab-df-spinner');\n",
              "          quickchartButtonEl.classList.add('colab-df-quickchart-complete');\n",
              "        }\n",
              "        (() => {\n",
              "          let quickchartButtonEl =\n",
              "            document.querySelector('#df-d03a7e0d-6229-4838-9120-43b59af24463 button');\n",
              "          quickchartButtonEl.style.display =\n",
              "            google.colab.kernel.accessAllowed ? 'block' : 'none';\n",
              "        })();\n",
              "      </script>\n",
              "    </div>\n",
              "\n",
              "    </div>\n",
              "  </div>\n"
            ],
            "application/vnd.google.colaboratory.intrinsic+json": {
              "type": "dataframe",
              "summary": "{\n  \"name\": \"df\",\n  \"rows\": 8,\n  \"fields\": [\n    {\n      \"column\": \"User_ID\",\n      \"properties\": {\n        \"dtype\": \"number\",\n        \"std\": 367117.89753373514,\n        \"min\": 1727.5915855306216,\n        \"max\": 1006040.0,\n        \"num_unique_values\": 8,\n        \"samples\": [\n          1003028.8424013031,\n          1003077.0,\n          550068.0\n        ],\n        \"semantic_type\": \"\",\n        \"description\": \"\"\n      }\n    },\n    {\n      \"column\": \"Occupation\",\n      \"properties\": {\n        \"dtype\": \"number\",\n        \"std\": 194475.49735336297,\n        \"min\": 0.0,\n        \"max\": 550068.0,\n        \"num_unique_values\": 8,\n        \"samples\": [\n          8.076706879876669,\n          7.0,\n          550068.0\n        ],\n        \"semantic_type\": \"\",\n        \"description\": \"\"\n      }\n    },\n    {\n      \"column\": \"Marital_Status\",\n      \"properties\": {\n        \"dtype\": \"number\",\n        \"std\": 194478.25991330712,\n        \"min\": 0.0,\n        \"max\": 550068.0,\n        \"num_unique_values\": 5,\n        \"samples\": [\n          0.40965298835780306,\n          1.0,\n          0.4917701263166973\n        ],\n        \"semantic_type\": \"\",\n        \"description\": \"\"\n      }\n    },\n    {\n      \"column\": \"Product_Category\",\n      \"properties\": {\n        \"dtype\": \"number\",\n        \"std\": 194476.16701795225,\n        \"min\": 1.0,\n        \"max\": 550068.0,\n        \"num_unique_values\": 7,\n        \"samples\": [\n          550068.0,\n          5.404270017525106,\n          8.0\n        ],\n        \"semantic_type\": \"\",\n        \"description\": \"\"\n      }\n    },\n    {\n      \"column\": \"Purchase\",\n      \"properties\": {\n        \"dtype\": \"number\",\n        \"std\": 191363.80903912007,\n        \"min\": 12.0,\n        \"max\": 550068.0,\n        \"num_unique_values\": 8,\n        \"samples\": [\n          9263.968712959126,\n          8047.0,\n          550068.0\n        ],\n        \"semantic_type\": \"\",\n        \"description\": \"\"\n      }\n    }\n  ]\n}"
            }
          },
          "metadata": {},
          "execution_count": 16
        }
      ]
    },
    {
      "cell_type": "code",
      "source": [
        "plt.figure(figsize=(15,8))\n",
        "plt.subplot(2,3,1)\n",
        "sns.boxplot(data=df,y=\"Age\")\n",
        "plt.title(\"Age (years)\")\n",
        "plt.xlabel(\"\")\n",
        "plt.ylabel(\"\")\n",
        "plt.subplot(2,3,2)\n",
        "sns.boxplot(data=df,y=\"Occupation\")\n",
        "plt.title(\"Education (years)\")\n",
        "plt.xlabel(\"\")\n",
        "plt.ylabel(\"\")\n",
        "plt.subplot(2,3,3)\n",
        "sns.boxplot(data=df,y=\"Product_Category\")\n",
        "plt.title(\"Product_Category\")\n",
        "plt.xlabel(\"\")\n",
        "plt.ylabel(\"\")\n",
        "plt.subplot(2,3,4)\n",
        "sns.boxplot(data=df,y=\"Purchase\")\n",
        "plt.title(\"Purchase\")\n",
        "plt.xlabel(\"\")\n",
        "plt.ylabel(\"\")\n"
      ],
      "metadata": {
        "colab": {
          "base_uri": "https://localhost:8080/",
          "height": 697
        },
        "id": "KHdnxZae3CER",
        "outputId": "73ae7fc2-40b8-4bb4-a99c-3117ed009400"
      },
      "execution_count": null,
      "outputs": [
        {
          "output_type": "execute_result",
          "data": {
            "text/plain": [
              "Text(0, 0.5, '')"
            ]
          },
          "metadata": {},
          "execution_count": 17
        },
        {
          "output_type": "display_data",
          "data": {
            "text/plain": [
              "<Figure size 1500x800 with 4 Axes>"
            ],
            "image/png": "[encoded data removed]"
          },
          "metadata": {}
        }
      ]
    },
    {
      "cell_type": "code",
      "source": [
        "df1 = df.copy()\n",
        "for col in [\"Product_Category\",\"Purchase\"]:\n",
        "  lower = np.percentile(df1[col],5)\n",
        "  upper = np.percentile(df1[col],95)\n",
        "  df1[col]=np.clip(df1[col],lower,upper)"
      ],
      "metadata": {
        "id": "lWkz-aANs6CE"
      },
      "execution_count": null,
      "outputs": []
    },
    {
      "cell_type": "code",
      "source": [
        "plt.figure(figsize=(15,8))\n",
        "plt.subplot(2,3,1)\n",
        "sns.boxplot(data=df1,y=\"Age\")\n",
        "plt.title(\"Age (years)\")\n",
        "plt.xlabel(\"\")\n",
        "plt.ylabel(\"\")\n",
        "plt.subplot(2,3,2)\n",
        "sns.boxplot(data=df1,y=\"Occupation\")\n",
        "plt.title(\"Education (years)\")\n",
        "plt.xlabel(\"\")\n",
        "plt.ylabel(\"\")\n",
        "plt.subplot(2,3,3)\n",
        "sns.boxplot(data=df1,y=\"Product_Category\")\n",
        "plt.title(\"Product_Category\")\n",
        "plt.xlabel(\"\")\n",
        "plt.ylabel(\"\")\n",
        "plt.subplot(2,3,4)\n",
        "sns.boxplot(data=df1,y=\"Purchase\")\n",
        "plt.title(\"Purchase\")\n",
        "plt.xlabel(\"\")\n",
        "plt.ylabel(\"\")"
      ],
      "metadata": {
        "colab": {
          "base_uri": "https://localhost:8080/",
          "height": 697
        },
        "id": "SGOV5C4As5_K",
        "outputId": "0c9b55cc-b1be-40ff-cd33-74dc0aa86fb8"
      },
      "execution_count": null,
      "outputs": [
        {
          "output_type": "execute_result",
          "data": {
            "text/plain": [
              "Text(0, 0.5, '')"
            ]
          },
          "metadata": {},
          "execution_count": 19
        },
        {
          "output_type": "display_data",
          "data": {
            "text/plain": [
              "<Figure size 1500x800 with 4 Axes>"
            ],
            "image/png": "[encoded data removed]"
          },
          "metadata": {}
        }
      ]
    },
    {
      "cell_type": "markdown",
      "source": [
        "3. Business Insights based on Non- Graphical and Visual Analysis,\n",
        "Comments on the range of attributes,\n",
        "Comments on the distribution of the variables and relationship between them,\n",
        "Comments for each univariate and bivariate plot"
      ],
      "metadata": {
        "id": "AFtN9xyucoba"
      }
    },
    {
      "cell_type": "markdown",
      "source": [
        " Comments on Distribution and Relationship\n",
        "A. Univariate Distribution (Boxplots)\n",
        "The boxplots (after outlier treatment via clipping at the 5th and 95th percentiles) provide a normalized view of the central tendency.\n",
        "\n",
        "\n",
        "Purchase: The distribution is highly concentrated, with a median around 8047. The box is wide, indicating that\n",
        "\n",
        "50% of purchases (IQR) range from ≈5823 to ≈12054. After clipping, the box is centered slightly higher, with a clear median and tight IQR.\n",
        "\n",
        "\n",
        "\n",
        "\n",
        "\n",
        "Product_Category: The distribution is skewed towards lower category numbers. The median is\n",
        "\n",
        "5, and 50% of purchases fall between categories 1 and 8 (IQR). Clipping removes categories outside this range.\n",
        "\n",
        "\n",
        "\n",
        "\n",
        "\n",
        "Occupation: Occupations are quite spread out, with a median of 7 and an IQR of 2 to 14.\n",
        "\n",
        " Correlation (Heatmap)\n",
        "The correlation heatmap summarizes linear relationships between numerical attributes: Occupation, Product_Category, and Purchase.\n",
        "\n",
        "\n",
        "\n",
        "Product_Category vs. Purchase (Strongest Relationship): There is a moderate negative correlation (−0.34). This means that as the product category number increases, the purchase amount tends to decrease. High-value purchases are more frequent in low-numbered product categories (e.g., Category 1, 5, 8).\n",
        "\n",
        "\n",
        "Occupation vs. Purchase: There is a very weak positive correlation (0.021). Occupation has negligible linear impact on the Purchase amount.\n",
        "\n",
        "\n",
        "Occupation vs. Product_Category: There is a very weak negative correlation (−0.0076)."
      ],
      "metadata": {
        "id": "PIq7Oyznc6Zd"
      }
    },
    {
      "cell_type": "markdown",
      "source": [
        "Are women spending more money per transaction than men? Why or Why not?\n",
        "\n",
        "Confidence intervals and distribution of the mean of the expenses by female and male customers\n",
        "\n",
        "Are confidence intervals of average male and female spending overlapping?\n",
        "\n",
        "How can Walmart leverage this conclusion to make changes or improvements?\n"
      ],
      "metadata": {
        "id": "vGXcoiIrdZVo"
      }
    },
    {
      "cell_type": "code",
      "source": [
        "df1[df1[\"Gender\"]==\"M\"][\"Purchase\"].mean(),df1[df1[\"Gender\"]==\"F\"][\"Purchase\"].mean()"
      ],
      "metadata": {
        "colab": {
          "base_uri": "https://localhost:8080/"
        },
        "id": "rPrs34467zLS",
        "outputId": "d16e8df4-a13c-47e4-ad24-2ca37cf3915e"
      },
      "execution_count": null,
      "outputs": [
        {
          "output_type": "execute_result",
          "data": {
            "text/plain": [
              "(np.float64(9427.240996574606), np.float64(8736.540266109021))"
            ]
          },
          "metadata": {},
          "execution_count": 20
        }
      ]
    },
    {
      "cell_type": "markdown",
      "source": [
        "Observation : Women are not spending more money than men per transaction. Men are spending on an average 9427 whereas women are spending 8736 per purchase.\n"
      ],
      "metadata": {
        "id": "5IfawWT-x0wH"
      }
    },
    {
      "cell_type": "markdown",
      "source": [
        "------------------------------------------------------------------------------------------------\n"
      ],
      "metadata": {
        "id": "T36Yz_Gxb2Ou"
      }
    },
    {
      "cell_type": "code",
      "source": [
        "print(\"Confidence intervals of the mean of the expenses by Male\",norm.interval(0.95,loc=mean_male,scale=std_male/np.sqrt(n)))"
      ],
      "metadata": {
        "id": "IZ5gTbGkxyxH",
        "colab": {
          "base_uri": "https://localhost:8080/"
        },
        "outputId": "d76a2e53-9513-438b-8b4f-c8875a465528"
      },
      "execution_count": null,
      "outputs": [
        {
          "output_type": "stream",
          "name": "stdout",
          "text": [
            "Confidence intervals of the mean of the expenses by Male (np.float64(9412.240611016145), np.float64(9442.241382133068))\n"
          ]
        }
      ]
    },
    {
      "cell_type": "code",
      "source": [
        "mean_male=df1[df1[\"Gender\"]==\"M\"][\"Purchase\"].mean()\n",
        "std_male=df1[df1[\"Gender\"]==\"M\"][\"Purchase\"].std()\n",
        "n = len(df1[df1[\"Gender\"]==\"M\"][\"Purchase\"])"
      ],
      "metadata": {
        "id": "17TIu3e1xyt0"
      },
      "execution_count": null,
      "outputs": []
    },
    {
      "cell_type": "code",
      "source": [
        "mean_female=df1[df1[\"Gender\"]==\"F\"][\"Purchase\"].mean()\n",
        "std_female=df1[df1[\"Gender\"]==\"F\"][\"Purchase\"].std()\n",
        "nf = len(df1[df1[\"Gender\"]==\"F\"][\"Purchase\"])\n",
        "print(\"Confidence intervals of the mean of the expenses by Female\",norm.interval(0.95,loc=mean_female,scale=std_female/np.sqrt(nf)))"
      ],
      "metadata": {
        "id": "pgV4KXw-xyqy",
        "colab": {
          "base_uri": "https://localhost:8080/"
        },
        "outputId": "99464cf7-c286-4f89-bfab-d8f3d0fad6c7"
      },
      "execution_count": null,
      "outputs": [
        {
          "output_type": "stream",
          "name": "stdout",
          "text": [
            "Confidence intervals of the mean of the expenses by Female (np.float64(8712.091504525708), np.float64(8760.989027692334))\n"
          ]
        }
      ]
    },
    {
      "cell_type": "markdown",
      "source": [
        "Are the confidence intervals overlapping?\n",
        "\n",
        "Female CI: (8712, 8760)\n",
        "\n",
        "Male CI: (9412, 9442)\n",
        "→ ❌ No overlap\n",
        "\n",
        "That means the difference in average spending between male and female customers is statistically significant at the 95% confidence level.\n"
      ],
      "metadata": {
        "id": "YN9TgFMYBtmc"
      }
    },
    {
      "cell_type": "code",
      "source": [
        "female = df1[df1['Gender'] == 'F']['Purchase']\n",
        "male = df1[df1['Gender'] == 'M']['Purchase']\n",
        "plt.figure(figsize=(8,5))\n",
        "sns.kdeplot(female, label='Female', shade=True)\n",
        "sns.kdeplot(male, label='Male', shade=True)\n",
        "plt.legend()"
      ],
      "metadata": {
        "id": "lcb4v_Tuxyny",
        "colab": {
          "base_uri": "https://localhost:8080/",
          "height": 691
        },
        "outputId": "a57c4816-b2bc-43ee-9d00-290cea1b19b3"
      },
      "execution_count": null,
      "outputs": [
        {
          "output_type": "stream",
          "name": "stderr",
          "text": [
            "/tmp/ipython-input-95286576.py:4: FutureWarning: \n",
            "\n",
            "`shade` is now deprecated in favor of `fill`; setting `fill=True`.\n",
            "This will become an error in seaborn v0.14.0; please update your code.\n",
            "\n",
            "  sns.kdeplot(female, label='Female', shade=True)\n",
            "/tmp/ipython-input-95286576.py:5: FutureWarning: \n",
            "\n",
            "`shade` is now deprecated in favor of `fill`; setting `fill=True`.\n",
            "This will become an error in seaborn v0.14.0; please update your code.\n",
            "\n",
            "  sns.kdeplot(male, label='Male', shade=True)\n"
          ]
        },
        {
          "output_type": "execute_result",
          "data": {
            "text/plain": [
              "<matplotlib.legend.Legend at 0x7e56e53aa7e0>"
            ]
          },
          "metadata": {},
          "execution_count": 47
        },
        {
          "output_type": "display_data",
          "data": {
            "text/plain": [
              "<Figure size 800x500 with 1 Axes>"
            ],
            "image/png": "[encoded data removed]"
          },
          "metadata": {}
        }
      ]
    },
    {
      "cell_type": "markdown",
      "source": [
        "------------------------------------------------------------------------------------------------"
      ],
      "metadata": {
        "id": "016UhNqEb0DJ"
      }
    },
    {
      "cell_type": "markdown",
      "source": [
        "Observations:\n",
        "\n",
        "Both distributions are multi-peaked → indicates different spending groups (maybe low, medium, high spenders).\n",
        "\n",
        "The female curve peaks more around ₹7,000–₹9,000, while the male curve has more density around ₹15,000–₹20,000.\n",
        "\n",
        "The overlap in the middle range (~₹5,000–₹12,000) shows both genders have similar spending patterns there, but males dominate in higher-value purchases.\n",
        "From your previous analysis:\n",
        "\n",
        "Female mean ≈ lower\n",
        "\n",
        "Male mean ≈ higher\n",
        "\n",
        "The KDE confirms that pattern — the male distribution is slightly shifted right (toward higher spending).\n",
        "\n",
        "If the confidence intervals of mean purchases do not overlap, this visually matches what you see:\n",
        "Male customers’ mean spending is statistically higher.\n",
        "\n",
        "Business Insight for Walmart\n",
        "\n",
        "Female Customers: Tend to make more frequent, smaller purchases — offer combo deals, discounts, or personalized coupons to increase cart value.\n",
        "\n",
        "Male Customers: Tend to make fewer but higher-value purchases — promote premium or tech-related products.\n",
        "\n",
        "Overall Strategy:\n",
        "\n",
        "Develop targeted campaigns by gender rather than generic ads.\n",
        "\n",
        "Use loyalty programs to increase cross-category spending among females.\n",
        "\n",
        "Focus up-selling and high-ticket items toward male customers."
      ],
      "metadata": {
        "id": "zLTBFqSL-6s1"
      }
    },
    {
      "cell_type": "markdown",
      "source": [
        "Results when the same activity is performed for Married vs Unmarried"
      ],
      "metadata": {
        "id": "aeNeDg4DdxDG"
      }
    },
    {
      "cell_type": "code",
      "source": [
        "mean_unmarried=df1[df1[\"Marital_Status\"]==0][\"Purchase\"].mean()\n",
        "std_unmarried=df1[df1[\"Marital_Status\"]==0][\"Purchase\"].std()\n",
        "n = len(df1[df1[\"Marital_Status\"]==0][\"Purchase\"])\n",
        "mean_married=df1[df1[\"Marital_Status\"]==1][\"Purchase\"].mean()\n",
        "std_married=df1[df1[\"Marital_Status\"]==1][\"Purchase\"].std()\n",
        "nf = len(df1[df1[\"Marital_Status\"]==1][\"Purchase\"])\n",
        "print(\"Confidence intervals of the mean of the expenses by Unmarried person\",norm.interval(0.95,loc=mean_unmarried,scale=std_unmarried/np.sqrt(n)))\n",
        "print(\"Confidence intervals of the mean of the expenses by Married person\",norm.interval(0.95,loc=mean_married,scale=std_married/np.sqrt(n)))"
      ],
      "metadata": {
        "id": "ppXcbVdb7y4o",
        "colab": {
          "base_uri": "https://localhost:8080/"
        },
        "outputId": "a3698231-5b05-47a0-c0db-3b87f54ae481"
      },
      "execution_count": null,
      "outputs": [
        {
          "output_type": "stream",
          "name": "stdout",
          "text": [
            "Confidence intervals of the mean of the expenses by Unmarried person (np.float64(9242.089086233358), np.float64(9275.551841180408))\n",
            "Confidence intervals of the mean of the expenses by Married person (np.float64(9237.011000763552), np.float64(9270.328646076516))\n"
          ]
        }
      ]
    },
    {
      "cell_type": "markdown",
      "source": [
        "Are the confidence intervals overlapping?\n",
        "\n",
        "Unmarried CI: (8712, 8760)\n",
        "\n",
        "Married CI: (9412, 9442)\n",
        "→ ✅ Yes,they overlap heavily— both intervals lie between ₹9237 and ₹9276, almost identical.\n",
        "\n",
        "Because the intervals overlap, there is no statistically significant difference in the mean purchase amounts of married and unmarried customers at the 95% confidence level.\n",
        "\n",
        "In other words:\n",
        "\n",
        "Marriage status does not significantly influence spending behavior in this dataset."
      ],
      "metadata": {
        "id": "yUpRahu1DuTV"
      }
    },
    {
      "cell_type": "code",
      "source": [
        "unmarried = df1[df1['Marital_Status'] == 0]['Purchase']\n",
        "married = df1[df1['Marital_Status'] == 1]['Purchase']\n",
        "plt.figure(figsize=(8,5))\n",
        "sns.kdeplot(unmarried, label='Unmarried', shade=True)\n",
        "sns.kdeplot(married, label='Married', shade=True)\n",
        "plt.legend()"
      ],
      "metadata": {
        "id": "4tqI5qzK7y1y",
        "colab": {
          "base_uri": "https://localhost:8080/",
          "height": 696
        },
        "outputId": "765a1391-3882-4303-f097-a9e4b169aec7"
      },
      "execution_count": null,
      "outputs": [
        {
          "output_type": "stream",
          "name": "stderr",
          "text": [
            "/tmp/ipython-input-1468171228.py:4: FutureWarning: \n",
            "\n",
            "`shade` is now deprecated in favor of `fill`; setting `fill=True`.\n",
            "This will become an error in seaborn v0.14.0; please update your code.\n",
            "\n",
            "  sns.kdeplot(unmarried, label='Unmarried', shade=True)\n",
            "/tmp/ipython-input-1468171228.py:5: FutureWarning: \n",
            "\n",
            "`shade` is now deprecated in favor of `fill`; setting `fill=True`.\n",
            "This will become an error in seaborn v0.14.0; please update your code.\n",
            "\n",
            "  sns.kdeplot(married, label='Married', shade=True)\n"
          ]
        },
        {
          "output_type": "execute_result",
          "data": {
            "text/plain": [
              "<matplotlib.legend.Legend at 0x7e56e2077200>"
            ]
          },
          "metadata": {},
          "execution_count": 55
        },
        {
          "output_type": "display_data",
          "data": {
            "text/plain": [
              "<Figure size 800x500 with 1 Axes>"
            ],
            "image/png": "[encoded data removed]"
          },
          "metadata": {}
        }
      ]
    },
    {
      "cell_type": "markdown",
      "source": [
        "------------------------------------------------------------------------------------------------"
      ],
      "metadata": {
        "id": "97g6rjA4byj5"
      }
    },
    {
      "cell_type": "markdown",
      "source": [
        "Business Insight for Walmart\n",
        "\n",
        "Conclusion:\n",
        "\n",
        "Marital status does not significantly affect the average spending behavior of Walmart customers.\n",
        "\n",
        "Implications:\n",
        "\n",
        "Walmart should not segment promotions or campaigns purely based on marital status.\n",
        "\n",
        "Focus marketing strategies on other stronger predictors, such as:\n",
        "\n",
        "Gender differences (as seen earlier)\n",
        "\n",
        "Age groups\n",
        "\n",
        "City categories (A/B/C)\n",
        "Product categories or purchase frequency\n",
        "\n",
        "Example actionable steps:\n",
        "\n",
        "Use age-based or gender-based personalization for offers.\n",
        "\n",
        "Combine purchase history with demographics for targeted campaigns.\n",
        "\n",
        "Allocate marketing budget to segments that show statistically distinct spending patterns."
      ],
      "metadata": {
        "id": "MkReBmc3EqYQ"
      }
    },
    {
      "cell_type": "markdown",
      "source": [
        "Results when the same activity is performed for Age"
      ],
      "metadata": {
        "id": "NuD5_YSPd2jy"
      }
    },
    {
      "cell_type": "code",
      "source": [
        "mean_18_25=df1[df1[\"Age\"]==\"18-25\"][\"Purchase\"].mean()\n",
        "std_18_25=df1[df1[\"Age\"]==\"18-25\"][\"Purchase\"].std()\n",
        "n_18_25 = len(df1[df1[\"Age\"]==\"18-25\"][\"Purchase\"])\n",
        "mean_26_35=df1[df1[\"Age\"]==\"26-35\"][\"Purchase\"].mean()\n",
        "std_26_35=df1[df1[\"Age\"]==\"26-35\"][\"Purchase\"].std()\n",
        "n_26_35 = len(df1[df1[\"Age\"]==\"26-35\"][\"Purchase\"])\n",
        "mean_36_45=df1[df1[\"Age\"]==\"36-45\"][\"Purchase\"].mean()\n",
        "std_36_45=df1[df1[\"Age\"]==\"36-45\"][\"Purchase\"].std()\n",
        "n_36_45 = len(df1[df1[\"Age\"]==\"36-45\"][\"Purchase\"])\n",
        "print(\"Confidence intervals of the mean of the expenses by 18 to 25 aged person\",norm.interval(0.95,loc=mean_18_25,scale=std_18_25/np.sqrt(n)))\n",
        "print(\"Confidence intervals of the mean of the expenses by 26 to 35 aged person\",norm.interval(0.95,loc=mean_26_35,scale=std_26_35/np.sqrt(n)))\n",
        "print(\"Confidence intervals of the mean of the expenses by 36 to 45 aged person\",norm.interval(0.95,loc=mean_36_45,scale=std_36_45/np.sqrt(n)))"
      ],
      "metadata": {
        "id": "JX9F5uqjs58V",
        "colab": {
          "base_uri": "https://localhost:8080/"
        },
        "outputId": "066c112d-67dd-4919-a9fc-0a7943f33b4f"
      },
      "execution_count": null,
      "outputs": [
        {
          "output_type": "stream",
          "name": "stdout",
          "text": [
            "Confidence intervals of the mean of the expenses by 18 to 25 aged person (np.float64(9152.194132772242), np.float64(9185.827821873554))\n",
            "Confidence intervals of the mean of the expenses by 26 to 35 aged person (np.float64(9227.081035795944), np.float64(9260.479202287368))\n",
            "Confidence intervals of the mean of the expenses by 36 to 45 aged person (np.float64(9306.248945725512), np.float64(9339.594872732307))\n"
          ]
        }
      ]
    },
    {
      "cell_type": "markdown",
      "source": [
        "No Overlap between intervals — each age group’s confidence interval lies completely above the previous one.\n",
        "\n",
        "18–25: ends at ~9186\n",
        "\n",
        "26–35: starts at ~9227\n",
        "\n",
        "36–45: starts at ~9306\n",
        "\n",
        " This means the differences in mean purchases between these age groups are statistically significant.\n",
        "\n",
        "Trend:\n",
        "As age increases, average spending also increases.\n",
        "\n",
        "Young customers (18–25) are relatively low spenders — possibly students or early professionals.\n",
        "\n",
        "Mid-age customers (26–35) show higher spending — likely stable income and family purchases.\n",
        "\n",
        "Customers aged 36–45 are the highest spenders, possibly due to established careers and household needs.\n"
      ],
      "metadata": {
        "id": "tGrouwvfJ5en"
      }
    },
    {
      "cell_type": "code",
      "source": [
        "age_18_25 = df1[df1['Age'] == \"18-25\"]['Purchase']\n",
        "age_26_35 = df1[df1['Age'] == \"26-35\"]['Purchase']\n",
        "age_36_45 = df1[df1['Age'] == \"36-45\"]['Purchase']\n",
        "plt.figure(figsize=(8,5))\n",
        "sns.kdeplot(age_18_25, label='18-25', shade=True)\n",
        "sns.kdeplot(age_26_35, label='26-35', shade=True)\n",
        "sns.kdeplot(age_36_45, label='36-45', shade=True)\n",
        "plt.legend()"
      ],
      "metadata": {
        "colab": {
          "base_uri": "https://localhost:8080/",
          "height": 795
        },
        "id": "-5zdKloQCkY4",
        "outputId": "0f666b2d-ada4-4e0e-a5ba-93a3476f9530"
      },
      "execution_count": null,
      "outputs": [
        {
          "output_type": "stream",
          "name": "stderr",
          "text": [
            "/tmp/ipython-input-3819418767.py:5: FutureWarning: \n",
            "\n",
            "`shade` is now deprecated in favor of `fill`; setting `fill=True`.\n",
            "This will become an error in seaborn v0.14.0; please update your code.\n",
            "\n",
            "  sns.kdeplot(age_18_25, label='18-25', shade=True)\n",
            "/tmp/ipython-input-3819418767.py:6: FutureWarning: \n",
            "\n",
            "`shade` is now deprecated in favor of `fill`; setting `fill=True`.\n",
            "This will become an error in seaborn v0.14.0; please update your code.\n",
            "\n",
            "  sns.kdeplot(age_26_35, label='26-35', shade=True)\n",
            "/tmp/ipython-input-3819418767.py:7: FutureWarning: \n",
            "\n",
            "`shade` is now deprecated in favor of `fill`; setting `fill=True`.\n",
            "This will become an error in seaborn v0.14.0; please update your code.\n",
            "\n",
            "  sns.kdeplot(age_36_45, label='36-45', shade=True)\n"
          ]
        },
        {
          "output_type": "execute_result",
          "data": {
            "text/plain": [
              "<matplotlib.legend.Legend at 0x7e56e4d85ca0>"
            ]
          },
          "metadata": {},
          "execution_count": 57
        },
        {
          "output_type": "display_data",
          "data": {
            "text/plain": [
              "<Figure size 800x500 with 1 Axes>"
            ],
            "image/png": "[encoded data removed]"
          },
          "metadata": {}
        }
      ]
    },
    {
      "cell_type": "markdown",
      "source": [
        "Final Insights and Recommendations :"
      ],
      "metadata": {
        "id": "ubvCAZHed59j"
      }
    },
    {
      "cell_type": "markdown",
      "source": [
        "Business Insight for Walmart\n",
        "\n",
        "The KDE distribution and 95% confidence intervals both show that average purchase amounts rise consistently with age.\n",
        "Customers aged 18–25 spend significantly less than those aged 26–35 and 36–45, whose spending increases progressively.\n",
        "This trend is statistically significant (non-overlapping CIs), indicating age is a strong predictor of spending behavior.\n",
        "Walmart should leverage this by designing age-targeted promotions and personalized product bundles to maximize revenue."
      ],
      "metadata": {
        "id": "c5-8gEwKLhIF"
      }
    },
    {
      "cell_type": "markdown",
      "source": [
        "------------------------------------------------------------------------------------------------\n"
      ],
      "metadata": {
        "id": "jaEoDSUbbvO1"
      }
    },
    {
      "cell_type": "code",
      "source": [
        "def bootstrap_ci(data, n_bootstrap=1000, ci=95):\n",
        "    means = []\n",
        "    for _ in range(n_bootstrap):\n",
        "        sample = np.random.choice(data, size=len(data), replace=True)\n",
        "        means.append(np.mean(sample))\n",
        "    lower = np.percentile(means, (100-ci)/2)\n",
        "    upper = np.percentile(means, 100-(100-ci)/2)\n",
        "    return (lower, upper)\n",
        "\n",
        "# Compute CI using the full dataset\n",
        "for gender in df1[\"Gender\"].unique():\n",
        "    data = df1[df1[\"Gender\"] == gender][\"Purchase\"].values\n",
        "    ci = bootstrap_ci(data)\n",
        "    print(f\"Gender {gender}: 95% CI of population= {ci}\")"
      ],
      "metadata": {
        "colab": {
          "base_uri": "https://localhost:8080/"
        },
        "id": "Fxls2GvooUmf",
        "outputId": "05b41329-2d16-47ec-8b9e-3813c05aa221"
      },
      "execution_count": null,
      "outputs": [
        {
          "output_type": "stream",
          "name": "stdout",
          "text": [
            "Gender F: 95% CI of population= (np.float64(8712.478525355464), np.float64(8760.35549098366))\n",
            "Gender M: 95% CI of population= (np.float64(9412.365990419037), np.float64(9441.691558240134))\n"
          ]
        }
      ]
    },
    {
      "cell_type": "code",
      "source": [
        "def bootstrap_ci(data, n_bootstrap=1000, ci=95):\n",
        "    means = []\n",
        "    for _ in range(n_bootstrap):\n",
        "        sample = np.random.choice(data, size=3000, replace=True)\n",
        "        means.append(np.mean(sample))\n",
        "    lower = np.percentile(means, (100-ci)/2)\n",
        "    upper = np.percentile(means, 100-(100-ci)/2)\n",
        "    return (lower, upper)\n",
        "\n",
        "# Compute CI using the full dataset\n",
        "for gender in df1[\"Gender\"].unique():\n",
        "    data = df1[df1[\"Gender\"] == gender][\"Purchase\"].values\n",
        "    ci = bootstrap_ci(data)\n",
        "    print(f\"Gender {gender}: 95% CI with sample size 3000 = {ci}\")\n",
        "def bootstrap_ci(data, n_bootstrap=1000, ci=95):\n",
        "    means = []\n",
        "    for _ in range(n_bootstrap):\n",
        "        sample = np.random.choice(data, size=30000, replace=True)\n",
        "        means.append(np.mean(sample))\n",
        "    lower = np.percentile(means, (100-ci)/2)\n",
        "    upper = np.percentile(means, 100-(100-ci)/2)\n",
        "    return (lower, upper)\n",
        "\n",
        "# Compute CI using the full dataset\n",
        "for gender in df1[\"Gender\"].unique():\n",
        "    data = df1[df1[\"Gender\"] == gender][\"Purchase\"].values\n",
        "    ci = bootstrap_ci(data)\n",
        "    print(f\"Gender {gender}: 95% CI with sample size 30000 = {ci}\")"
      ],
      "metadata": {
        "colab": {
          "base_uri": "https://localhost:8080/"
        },
        "id": "PFpYuDXNoUju",
        "outputId": "8a284afb-8a70-407f-a9fb-d8f7d6b2ce0e"
      },
      "execution_count": null,
      "outputs": [
        {
          "output_type": "stream",
          "name": "stdout",
          "text": [
            "Gender F: 95% CI with sample size 3000 = (np.float64(8581.860283333333), np.float64(8913.472575))\n",
            "Gender M: 95% CI with sample size 3000 = (np.float64(9263.525500000002), np.float64(9598.074941666666))\n",
            "Gender F: 95% CI with sample size 30000 = (np.float64(8685.57437), np.float64(8786.019065))\n",
            "Gender M: 95% CI with sample size 30000 = (np.float64(9372.3278025), np.float64(9478.945398333333))\n"
          ]
        }
      ]
    },
    {
      "cell_type": "markdown",
      "source": [
        "1) Is the CI from the entire dataset wider for one gender? Why?\n",
        "\n",
        "Yes.\n",
        "\n",
        "The male CI from the entire dataset is narrower (29.33) than the female CI (47.88).\n",
        "smaller sample standard deviation s for males, or\n",
        "larger effective sample size n for males, or both.\n",
        "Without the raw n and s by gender I can't say which exactly, but one (or both) of those factors produced a smaller standard error for males, hence a narrower CI.\n",
        "\n",
        "2) How is the width of the confidence interval affected by sample size?\n",
        "\n",
        "Strong inverse relationship.\n",
        "Conclusion: larger samples → smaller CI width (more precise estimate of the population mean).\n",
        "\n",
        "3) Do the confidence intervals for different sample sizes overlap?\n",
        "\n",
        "Yes — and importantly, they are consistent.\n",
        "\n",
        "For Females:\n",
        "\n",
        "3k CI (8581.86, 8913.47)\n",
        "\n",
        "30k CI (8685.57, 8786.02)\n",
        "\n",
        "Entire CI (8712.48, 8760.36)\n",
        "The 30k and entire-dataset CIs lie inside the broader 3k CI and overlap each other strongly.\n",
        "\n",
        "For Males:\n",
        "\n",
        "3k CI (9263.53, 9598.07)\n",
        "\n",
        "30k CI (9372.33, 9478.95)\n",
        "\n",
        "Entire CI (9412.37, 9441.69)\n",
        "Again, the narrower CIs (30k, entire) sit inside the wide 3k CI.\n",
        "\n",
        "Implication: estimates are stable across sample sizes — as sample size grows the CI shrinks and converges toward the full-data estimate.\n",
        "\n",
        "Also note an important cross-group point: female and male CIs do not overlap at any sample size (even with n=3k), so the gender difference is robust.\n",
        "\n",
        "4) How does sample size affect the shape of the distributions of the means?\n",
        "\n",
        "By the Central Limit Theorem (CLT):\n",
        "\n",
        "The sampling distribution of the sample mean becomes approximately normal as sample size increases (even if the original data are skewed).\n",
        "So with larger n: The distribution of sample means becomes narrower (means concentrate closer to the true population mean).\n",
        "\n",
        "That is why CI width shrinks and the estimate becomes more precise.\n",
        "\n",
        "Empirically: going from 3k → 30k made the CI much narrower and would produce a sampling-means distribution that is much more tightly peaked.\n",
        "\n"
      ],
      "metadata": {
        "id": "7Mi3Rqd5NKwm"
      }
    },
    {
      "cell_type": "markdown",
      "source": [
        "------------------------------------------------------------------------------------------------\n"
      ],
      "metadata": {
        "id": "K0U8fsm8bsrU"
      }
    },
    {
      "cell_type": "code",
      "source": [
        "def bootstrap_ci(data, n_bootstrap=1000, ci=95):\n",
        "    means = []\n",
        "    for _ in range(n_bootstrap):\n",
        "        sample = np.random.choice(data, size=len(data), replace=True)\n",
        "        means.append(np.mean(sample))\n",
        "    lower = np.percentile(means, (100-ci)/2)\n",
        "    upper = np.percentile(means, 100-(100-ci)/2)\n",
        "    return (lower, upper)\n",
        "\n",
        "# Compute CI using the full dataset\n",
        "for MS in df1[\"Marital_Status\"].unique():\n",
        "    data = df1[df1[\"Marital_Status\"] == MS][\"Purchase\"].values\n",
        "    ci = bootstrap_ci(data)\n",
        "    print(f\"Marital Status {MS}: 95% CI of population= {ci}\")\n",
        "def bootstrap_ci(data, n_bootstrap=1000, ci=95):\n",
        "    means = []\n",
        "    for _ in range(n_bootstrap):\n",
        "        sample = np.random.choice(data, size=3000, replace=True)\n",
        "        means.append(np.mean(sample))\n",
        "    lower = np.percentile(means, (100-ci)/2)\n",
        "    upper = np.percentile(means, 100-(100-ci)/2)\n",
        "    return (lower, upper)\n",
        "\n",
        "# Compute CI using the full dataset\n",
        "for MS in df1[\"Marital_Status\"].unique():\n",
        "    data = df1[df1[\"Marital_Status\"] == MS][\"Purchase\"].values\n",
        "    ci = bootstrap_ci(data)\n",
        "    print(f\"Marital Status {MS}: 95% CI with sample size 3000 = {ci}\")\n",
        "def bootstrap_ci(data, n_bootstrap=1000, ci=95):\n",
        "    means = []\n",
        "    for _ in range(n_bootstrap):\n",
        "        sample = np.random.choice(data, size=30000, replace=True)\n",
        "        means.append(np.mean(sample))\n",
        "    lower = np.percentile(means, (100-ci)/2)\n",
        "    upper = np.percentile(means, 100-(100-ci)/2)\n",
        "    return (lower, upper)\n",
        "\n",
        "# Compute CI using the full dataset\n",
        "for MS in df1[\"Marital_Status\"].unique():\n",
        "    data = df1[df1[\"Marital_Status\"] == MS][\"Purchase\"].values\n",
        "    ci = bootstrap_ci(data)\n",
        "    print(f\"Marital Status {MS}: 95% CI with sample size 30000 = {ci}\")"
      ],
      "metadata": {
        "id": "gv2io4Z7oUhI",
        "colab": {
          "base_uri": "https://localhost:8080/"
        },
        "outputId": "ddf0b2c1-8b55-4da5-fa80-0f315c9b4d5d"
      },
      "execution_count": null,
      "outputs": [
        {
          "output_type": "stream",
          "name": "stdout",
          "text": [
            "Marital Status 0: 95% CI of population= (np.float64(9241.57292559072), np.float64(9274.571072749444))\n",
            "Marital Status 1: 95% CI of population= (np.float64(9234.096646023512), np.float64(9274.236226518504))\n",
            "Marital Status 0: 95% CI with sample size 3000 = (np.float64(9085.162725), np.float64(9417.57375))\n",
            "Marital Status 1: 95% CI with sample size 3000 = (np.float64(9080.327858333334), np.float64(9427.070625))\n",
            "Marital Status 0: 95% CI with sample size 30000 = (np.float64(9206.353915), np.float64(9316.535925833334))\n",
            "Marital Status 1: 95% CI with sample size 30000 = (np.float64(9196.4673025), np.float64(9310.650540833334))\n"
          ]
        }
      ]
    },
    {
      "cell_type": "markdown",
      "source": [
        "i. Is the CI from the entire dataset wider for one marital group? Why?\n",
        "\n",
        "Yes, the CI for Married (1) customers (width ≈ 40.1) is slightly wider than that for Unmarried (0) (width ≈ 33.0).\n",
        "The difference arises if:\n",
        "\n",
        "Married customers have higher purchase variability (larger standard deviation), or Slightly smaller effective sample size than unmarried customers.\n",
        "Either factor increases the standard error and hence the CI width.\n",
        "\n",
        "ii. How is the width of the CI affected by sample size?\n",
        "\n",
        "As sample size increases, CI width decreases.\n",
        "\n",
        "Example:\n",
        "\n",
        "n= 3,000 → widths ≈ 330–345\n",
        "n=30,000 → widths ≈ 110\n",
        "Full dataset → widths ≈ 33–40\n",
        "Larger samples → smaller standard error → narrower CI → more precise mean estimate.\n",
        "\n",
        "iii. Do the CIs for different sample sizes overlap?\n",
        "\n",
        "Yes, completely — and they are consistent.\n",
        "\n",
        "For both Married and Unmarried groups:\n",
        "\n",
        "The 3,000-sample CIs are very wide, encompassing the smaller-sample CIs.\n",
        "\n",
        "The 30,000-sample and full-dataset intervals are entirely nested within the 3,000-sample range.\n",
        "\n",
        "This nesting shows the sample means are stable, just the uncertainty shrinks as n increases.\n",
        "\n",
        "Also note:\n",
        "Both groups’ CIs (even full-data) overlap each other substantially — meaning no statistically significant difference between Married and Unmarried mean spending.\n",
        "\n",
        "iv. How does sample size affect the shape of the distribution of means?\n",
        "\n",
        "According to the Central Limit Theorem (CLT):\n",
        "\n",
        "As sample size grows:\n",
        "The distribution of sample means becomes more normal (even if raw data are not perfectly normal).\n",
        "\n",
        "This means that:\n",
        "Small samples → wider, flatter sampling distribution of means\n",
        "\n",
        "Large samples → tighter, more peaked (concentrated) around the true population mean\n",
        "\n",
        "In this case, the transition from 3,000 → 30,000 → full dataset shows how the distribution of mean spending narrows and stabilizes, confirming CLT behavior."
      ],
      "metadata": {
        "id": "8p-qxdLHQCVL"
      }
    },
    {
      "cell_type": "markdown",
      "source": [
        "------------------------------------------------------------------------------------------------"
      ],
      "metadata": {
        "id": "84kEYShXbq_o"
      }
    },
    {
      "cell_type": "code",
      "source": [
        "def bootstrap_ci(data, n_bootstrap=1000, ci=95):\n",
        "    means = []\n",
        "    for _ in range(n_bootstrap):\n",
        "        sample = np.random.choice(data, size=len(data), replace=True)\n",
        "        means.append(np.mean(sample))\n",
        "    lower = np.percentile(means, (100-ci)/2)\n",
        "    upper = np.percentile(means, 100-(100-ci)/2)\n",
        "    return (lower, upper)\n",
        "\n",
        "# Compute CI using the full dataset\n",
        "for MS in [\"18-25\",\"26-35\",\"36-45\"]:\n",
        "    data = df1[df1[\"Age\"] == MS][\"Purchase\"].values\n",
        "    ci = bootstrap_ci(data)\n",
        "    print(f\"Age {MS}: 95% CI of population= {ci}\")\n",
        "def bootstrap_ci(data, n_bootstrap=1000, ci=95):\n",
        "    means = []\n",
        "    for _ in range(n_bootstrap):\n",
        "        sample = np.random.choice(data, size=3000, replace=True)\n",
        "        means.append(np.mean(sample))\n",
        "    lower = np.percentile(means, (100-ci)/2)\n",
        "    upper = np.percentile(means, 100-(100-ci)/2)\n",
        "    return (lower, upper)\n",
        "\n",
        "# Compute CI using the full dataset\n",
        "for MS in [\"18-25\",\"26-35\",\"36-45\"]:\n",
        "    data = df1[df1[\"Age\"] == MS][\"Purchase\"].values\n",
        "    ci = bootstrap_ci(data)\n",
        "    print(f\"Age {MS}: 95% CI with sample size 3000 = {ci}\")\n",
        "def bootstrap_ci(data, n_bootstrap=1000, ci=95):\n",
        "    means = []\n",
        "    for _ in range(n_bootstrap):\n",
        "        sample = np.random.choice(data, size=30000, replace=True)\n",
        "        means.append(np.mean(sample))\n",
        "    lower = np.percentile(means, (100-ci)/2)\n",
        "    upper = np.percentile(means, 100-(100-ci)/2)\n",
        "    return (lower, upper)\n",
        "\n",
        "# Compute CI using the full dataset\n",
        "for MS in [\"18-25\",\"26-35\",\"36-45\"]:\n",
        "    data = df1[df1[\"Age\"] == MS][\"Purchase\"].values\n",
        "    ci = bootstrap_ci(data)\n",
        "    print(f\"Age {MS}: 95% CI with sample size 30000 = {ci}\")"
      ],
      "metadata": {
        "id": "waR4GogGoUeg",
        "colab": {
          "base_uri": "https://localhost:8080/"
        },
        "outputId": "2590f5d2-7357-4f06-a038-9e2556fd07f4"
      },
      "execution_count": null,
      "outputs": [
        {
          "output_type": "stream",
          "name": "stdout",
          "text": [
            "Age 18-25: 95% CI of population= (np.float64(9137.59161172988), np.float64(9199.453627082079))\n",
            "Age 26-35: 95% CI of population= (np.float64(9222.870035794469), np.float64(9263.612774549496))\n",
            "Age 36-45: 95% CI of population= (np.float64(9292.972169425431), np.float64(9351.579048157944))\n",
            "Age 18-25: 95% CI with sample size 3000 = (np.float64(9003.868925), np.float64(9357.389041666665))\n",
            "Age 26-35: 95% CI with sample size 3000 = (np.float64(9057.660583333334), np.float64(9403.585425))\n",
            "Age 36-45: 95% CI with sample size 3000 = (np.float64(9153.428608333332), np.float64(9507.775441666667))\n",
            "Age 18-25: 95% CI with sample size 30000 = (np.float64(9113.347635833334), np.float64(9224.782108333333))\n",
            "Age 26-35: 95% CI with sample size 30000 = (np.float64(9190.182049166666), np.float64(9302.625920833332))\n",
            "Age 36-45: 95% CI with sample size 30000 = (np.float64(9268.730486666667), np.float64(9379.571930833332))\n"
          ]
        }
      ]
    },
    {
      "cell_type": "markdown",
      "source": [
        "i. Is the CI computed using the entire dataset wider for one of the ages? Why?\n",
        "\n",
        "Yes.\n",
        "CI width for entire population:\n",
        "\n",
        "Age 18–25: 9199.45 − 9137.59 ≈ 61.86\n",
        "\n",
        "Age 26–35: 9263.61 − 9222.87 ≈ 40.74\n",
        "\n",
        "Age 36–45: 9351.58 − 9292.97 ≈ 58.61\n",
        "\n",
        "Observation: Age 18–25 has the widest CI, and age 26–35 has the narrowest.\n",
        "\n",
        "Reason: The width of a CI depends on the standard deviation of the population. A wider CI indicates higher variability in the data for that age group. So Age 18–25 likely has more spread in its data compared to 26–35.\n",
        "\n",
        "ii. How is the width of the confidence interval affected by sample size?\n",
        "\n",
        "CI width decreases as sample size increases.\n",
        "\n",
        "Compare n=3000 vs n=30000:\n",
        "\n",
        "For Age 18–25:\n",
        "\n",
        "n=3000: 9357.39 − 9003.87 ≈ 353.52\n",
        "\n",
        "n=30000: 9224.78 − 9113.35 ≈ 111.43\n",
        "As n increases, SE decreases → CI becomes narrower.\n",
        "\n",
        "iii. Do the confidence intervals for different sample sizes overlap?\n",
        "\n",
        "Yes, they do overlap, but the extent of overlap decreases as sample size increases.\n",
        "\n",
        "Example for Age 18–25:\n",
        "\n",
        "Population CI: (9137.59, 9199.45)\n",
        "\n",
        "Sample n=3000: (9003.87, 9357.39) → overlaps completely\n",
        "\n",
        "Sample n=30000: (9113.35, 9224.78) → still overlaps, but narrower\n",
        "\n",
        "Conclusion: Larger samples give more precise estimates, but smaller sample CIs still capture the population CI, especially for sufficiently large n.\n",
        "\n",
        "iv. How does the sample size affect the shape of the distribution of the means?\n",
        "\n",
        "As sample size increases: The distribution of sample means becomes more concentrated around the population mean.\n",
        "\n",
        "According to the Central Limit Theorem, the sample means will tend to form a normal distribution, regardless of the population distribution, if n is large enough.\n",
        "\n",
        "Smaller sample sizes → wider spread of sample means; larger sample sizes → narrower spread.\n",
        "\n",
        "Observation from your CIs: The CI with n=30000 is much narrower than n=3000, showing a tighter distribution of sample means."
      ],
      "metadata": {
        "id": "Nepd8vH_YaFA"
      }
    },
    {
      "cell_type": "markdown",
      "source": [
        "------------------------------------------------------------------------------------------------"
      ],
      "metadata": {
        "id": "xRiML_aMbjj9"
      }
    },
    {
      "cell_type": "markdown",
      "source": [
        "## Conclusion\n",
        "The analysis of customer purchase data reveals that customer spending behavior is significantly affected by Gender and Age, but not by Marital Status.\n",
        "\n",
        "Gender and Age are statistically significant predictors of average purchase amount, as demonstrated by the non-overlapping 95% confidence intervals for their mean purchases.\n",
        "\n",
        "Males spend significantly more on average per transaction (mean ≈9427) than females (mean ≈8736).\n",
        "\n",
        "Average purchase amount increases with age across the 18–25, 26–35, and 36–45 age groups.\n",
        "\n",
        "Marital Status has no statistically significant effect on average spending, as the 95% confidence intervals for married and unmarried customers overlap heavily.\n",
        "The top-selling products are categories 1, 5, and 8, and the most frequent customers are in the 26-35 age group and reside in City Category C\n",
        "\n",
        "## Final Recommendations for Walmart\n",
        "Walmart should develop targeted marketing strategies that prioritize the statistically significant demographic variables—Gender and Age—to maximize revenue and optimize marketing spend.\n",
        "\n",
        "1. Gender-Specific Strategies 🚻\n",
        "The significant difference in average spending per transaction requires distinct strategies for male and female customers.\n",
        "\n",
        "Targeting Male Customers (Higher-Value Purchases):\n",
        "\n",
        "\n",
        "Focus on Upselling: Promote premium products, high-ticket items, and tech-related goods (like those in top-selling product categories 1, 5, and 8) since males tend to make fewer but higher-value purchases.\n",
        "\n",
        "\n",
        "Personalized Ads: Use marketing channels frequented by the male demographic to advertise new product releases or bundled high-value items.\n",
        "\n",
        "Inventory Focus: Ensure stock availability for high-demand, high-cost items that males are more likely to buy.\n",
        "\n",
        "Targeting Female Customers (Lower-Value, Frequent Purchases):\n",
        "\n",
        "Increase Cart Value: Implement strategies like combo deals, \"buy X get Y% off,\" and personalized coupons based on past purchases to increase the value of their frequent, smaller transactions.\n",
        "\n",
        "Loyalty Programs: Use loyalty programs to incentivize cross-category spending among females.\n",
        "\n",
        "Focus on Essentials: Promote everyday essentials and discounted bulk-buy options, matching their tendency for more frequent shopping.\n",
        "\n",
        "2. Age-Targeted Campaigns 📈\n",
        "Since average spending is positively correlated with age, promotions should be structured to encourage higher purchases across all groups.\n",
        "\n",
        "Mid-Age/High Spenders (26–45):This is the core spending group with a progressively increasing average purchase amount.\n",
        "Market products likely tied to family needs, home improvement, and stable income, as they are likely stable professionals or family purchasers.\n",
        "Promote high-end versions of popular products (categories 1, 5, 8).\n",
        "Younger Customers (18–25): These are relatively low spenders.\n",
        "\n",
        "Focus on value, student discounts, entry-level products, and trendy items to build brand loyalty early.\n",
        "\n",
        "3. Allocation and Efficiency 💡\n",
        "\n",
        "Avoid Marital Status Segmentation: Do not segment marketing or promotions purely based on marital status, as the analysis shows no statistical difference in average spending behavior between married and unmarried customers.\n",
        "\n",
        "\n",
        "Focus Budget: Allocate marketing budget to segments that show statistically distinct spending patterns, such as Gender, Age, City Category, and Product Category, to ensure higher return on investment (ROI).\n",
        "\n",
        "\n",
        "\n",
        "City Category C Focus: Given that most customers are from City Category C (53% of customers), tailor promotions, store layout, and inventory in City C locations to maximize the impact on this dominant customer base. The observation that City C males are leading in purchasing suggests a high-potential segment"
      ],
      "metadata": {
        "id": "n9QvMtR4ag_P"
      }
    },
    {
      "cell_type": "code",
      "source": [],
      "metadata": {
        "id": "LsxikJx3fgJL"
      },
      "execution_count": null,
      "outputs": []
    },
    {
      "cell_type": "code",
      "source": [],
      "metadata": {
        "id": "zqoxJ_-efgGT"
      },
      "execution_count": null,
      "outputs": []
    },
    {
      "cell_type": "code",
      "source": [],
      "metadata": {
        "id": "kZAoXsbDfgDf"
      },
      "execution_count": null,
      "outputs": []
    },
    {
      "cell_type": "code",
      "source": [],
      "metadata": {
        "id": "fPvpi2dGfaWr"
      },
      "execution_count": null,
      "outputs": []
    },
    {
      "cell_type": "code",
      "source": [],
      "metadata": {
        "id": "PBeZGTS6faTM"
      },
      "execution_count": null,
      "outputs": []
    },
    {
      "cell_type": "code",
      "source": [],
      "metadata": {
        "id": "8-8eQnA_faQe"
      },
      "execution_count": null,
      "outputs": []
    },
    {
      "cell_type": "code",
      "source": [],
      "metadata": {
        "id": "upuI92EPfaNq"
      },
      "execution_count": null,
      "outputs": []
    },
    {
      "cell_type": "code",
      "source": [],
      "metadata": {
        "id": "jkVVQ5gJfaKW"
      },
      "execution_count": null,
      "outputs": []
    },
    {
      "cell_type": "code",
      "source": [],
      "metadata": {
        "id": "LCEYrI1lfaHY"
      },
      "execution_count": null,
      "outputs": []
    },
    {
      "cell_type": "code",
      "source": [],
      "metadata": {
        "id": "7oaPialRfaEO"
      },
      "execution_count": null,
      "outputs": []
    },
    {
      "cell_type": "code",
      "source": [],
      "metadata": {
        "id": "SDbeaYj6faBN"
      },
      "execution_count": null,
      "outputs": []
    },
    {
      "cell_type": "code",
      "source": [],
      "metadata": {
        "id": "DoZ-16WdfZ95"
      },
      "execution_count": null,
      "outputs": []
    },
    {
      "cell_type": "code",
      "source": [],
      "metadata": {
        "id": "toLjyb-MfZ6v"
      },
      "execution_count": null,
      "outputs": []
    },
    {
      "cell_type": "code",
      "source": [],
      "metadata": {
        "id": "YPNWttFSfZ38"
      },
      "execution_count": null,
      "outputs": []
    },
    {
      "cell_type": "code",
      "source": [],
      "metadata": {
        "id": "5jpdipemfZ0n"
      },
      "execution_count": null,
      "outputs": []
    },
    {
      "cell_type": "code",
      "source": [],
      "metadata": {
        "id": "RKj3Qng3fZxj"
      },
      "execution_count": null,
      "outputs": []
    },
    {
      "cell_type": "code",
      "source": [],
      "metadata": {
        "id": "_36jS1cbfZul"
      },
      "execution_count": null,
      "outputs": []
    },
    {
      "cell_type": "code",
      "source": [],
      "metadata": {
        "id": "1L4EvVgsfZrj"
      },
      "execution_count": null,
      "outputs": []
    },
    {
      "cell_type": "code",
      "source": [],
      "metadata": {
        "id": "6r52xLYNfZoq"
      },
      "execution_count": null,
      "outputs": []
    },
    {
      "cell_type": "code",
      "source": [],
      "metadata": {
        "id": "2gAJOU3vfZl0"
      },
      "execution_count": null,
      "outputs": []
    },
    {
      "cell_type": "code",
      "source": [],
      "metadata": {
        "id": "4W9zf5qBfZi2"
      },
      "execution_count": null,
      "outputs": []
    },
    {
      "cell_type": "code",
      "source": [],
      "metadata": {
        "id": "Vygn-aFgfZfv"
      },
      "execution_count": null,
      "outputs": []
    },
    {
      "cell_type": "code",
      "source": [],
      "metadata": {
        "id": "EeKQaMJFfZcw"
      },
      "execution_count": null,
      "outputs": []
    },
    {
      "cell_type": "code",
      "source": [],
      "metadata": {
        "id": "cv_ad7bhfZZ1"
      },
      "execution_count": null,
      "outputs": []
    }
  ]
}